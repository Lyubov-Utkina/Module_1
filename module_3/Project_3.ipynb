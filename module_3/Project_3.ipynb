{
 "cells": [
  {
   "cell_type": "code",
   "execution_count": 1,
   "metadata": {},
   "outputs": [],
   "source": [
    "from datetime import datetime, timedelta\n",
    "from sklearn.preprocessing import MinMaxScaler\n",
    "from sklearn.model_selection import train_test_split\n",
    "import pandas as pd\n",
    "import numpy as np\n",
    "\n",
    "import matplotlib.pyplot as plt\n",
    "import seaborn as sns\n",
    "%matplotlib inline"
   ]
  },
  {
   "cell_type": "code",
   "execution_count": 2,
   "metadata": {},
   "outputs": [],
   "source": [
    "RANDOM_SEED = 42"
   ]
  },
  {
   "cell_type": "code",
   "execution_count": 3,
   "metadata": {},
   "outputs": [],
   "source": [
    "data = pd.read_csv('main_task.csv')"
   ]
  },
  {
   "cell_type": "code",
   "execution_count": 4,
   "metadata": {},
   "outputs": [
    {
     "data": {
      "text/html": [
       "<div>\n",
       "<style scoped>\n",
       "    .dataframe tbody tr th:only-of-type {\n",
       "        vertical-align: middle;\n",
       "    }\n",
       "\n",
       "    .dataframe tbody tr th {\n",
       "        vertical-align: top;\n",
       "    }\n",
       "\n",
       "    .dataframe thead th {\n",
       "        text-align: right;\n",
       "    }\n",
       "</style>\n",
       "<table border=\"1\" class=\"dataframe\">\n",
       "  <thead>\n",
       "    <tr style=\"text-align: right;\">\n",
       "      <th></th>\n",
       "      <th>Restaurant_id</th>\n",
       "      <th>City</th>\n",
       "      <th>Cuisine Style</th>\n",
       "      <th>Ranking</th>\n",
       "      <th>Rating</th>\n",
       "      <th>Price Range</th>\n",
       "      <th>Number of Reviews</th>\n",
       "      <th>Reviews</th>\n",
       "      <th>URL_TA</th>\n",
       "      <th>ID_TA</th>\n",
       "    </tr>\n",
       "  </thead>\n",
       "  <tbody>\n",
       "    <tr>\n",
       "      <th>38887</th>\n",
       "      <td>id_2198</td>\n",
       "      <td>Berlin</td>\n",
       "      <td>['Italian']</td>\n",
       "      <td>2200.0</td>\n",
       "      <td>4.5</td>\n",
       "      <td>$$ - $$$</td>\n",
       "      <td>11.0</td>\n",
       "      <td>[['Authentic Italian and excellent', 'Good Ita...</td>\n",
       "      <td>/Restaurant_Review-g187323-d9554512-Reviews-Ri...</td>\n",
       "      <td>d9554512</td>\n",
       "    </tr>\n",
       "    <tr>\n",
       "      <th>20136</th>\n",
       "      <td>id_818</td>\n",
       "      <td>Rome</td>\n",
       "      <td>['Italian', 'Mediterranean', 'Vegetarian Frien...</td>\n",
       "      <td>819.0</td>\n",
       "      <td>4.0</td>\n",
       "      <td>$$$$</td>\n",
       "      <td>788.0</td>\n",
       "      <td>[['Most Memorable Meal in Rome', 'Excellent!!'...</td>\n",
       "      <td>/Restaurant_Review-g187791-d778316-Reviews-Ost...</td>\n",
       "      <td>d778316</td>\n",
       "    </tr>\n",
       "    <tr>\n",
       "      <th>20859</th>\n",
       "      <td>id_310</td>\n",
       "      <td>Warsaw</td>\n",
       "      <td>['International', 'Spanish']</td>\n",
       "      <td>311.0</td>\n",
       "      <td>5.0</td>\n",
       "      <td>$$ - $$$</td>\n",
       "      <td>26.0</td>\n",
       "      <td>[['Great place', 'Favorite spot in Warsaw'], [...</td>\n",
       "      <td>/Restaurant_Review-g274856-d9459647-Reviews-Ba...</td>\n",
       "      <td>d9459647</td>\n",
       "    </tr>\n",
       "    <tr>\n",
       "      <th>5606</th>\n",
       "      <td>id_3166</td>\n",
       "      <td>Barcelona</td>\n",
       "      <td>['Spanish', 'Wine Bar']</td>\n",
       "      <td>3167.0</td>\n",
       "      <td>4.5</td>\n",
       "      <td>$</td>\n",
       "      <td>17.0</td>\n",
       "      <td>[['The real Catalan vermuteriya'], ['09/14/201...</td>\n",
       "      <td>/Restaurant_Review-g187497-d8029212-Reviews-La...</td>\n",
       "      <td>d8029212</td>\n",
       "    </tr>\n",
       "    <tr>\n",
       "      <th>15354</th>\n",
       "      <td>id_699</td>\n",
       "      <td>Stockholm</td>\n",
       "      <td>['Swedish', 'Scandinavian', 'European']</td>\n",
       "      <td>700.0</td>\n",
       "      <td>4.0</td>\n",
       "      <td>$$ - $$$</td>\n",
       "      <td>28.0</td>\n",
       "      <td>[['Not only for the locals', 'A very good rest...</td>\n",
       "      <td>/Restaurant_Review-g189852-d740154-Reviews-Bra...</td>\n",
       "      <td>d740154</td>\n",
       "    </tr>\n",
       "  </tbody>\n",
       "</table>\n",
       "</div>"
      ],
      "text/plain": [
       "      Restaurant_id       City  \\\n",
       "38887       id_2198     Berlin   \n",
       "20136        id_818       Rome   \n",
       "20859        id_310     Warsaw   \n",
       "5606        id_3166  Barcelona   \n",
       "15354        id_699  Stockholm   \n",
       "\n",
       "                                           Cuisine Style  Ranking  Rating  \\\n",
       "38887                                        ['Italian']   2200.0     4.5   \n",
       "20136  ['Italian', 'Mediterranean', 'Vegetarian Frien...    819.0     4.0   \n",
       "20859                       ['International', 'Spanish']    311.0     5.0   \n",
       "5606                             ['Spanish', 'Wine Bar']   3167.0     4.5   \n",
       "15354            ['Swedish', 'Scandinavian', 'European']    700.0     4.0   \n",
       "\n",
       "      Price Range  Number of Reviews  \\\n",
       "38887    $$ - $$$               11.0   \n",
       "20136        $$$$              788.0   \n",
       "20859    $$ - $$$               26.0   \n",
       "5606            $               17.0   \n",
       "15354    $$ - $$$               28.0   \n",
       "\n",
       "                                                 Reviews  \\\n",
       "38887  [['Authentic Italian and excellent', 'Good Ita...   \n",
       "20136  [['Most Memorable Meal in Rome', 'Excellent!!'...   \n",
       "20859  [['Great place', 'Favorite spot in Warsaw'], [...   \n",
       "5606   [['The real Catalan vermuteriya'], ['09/14/201...   \n",
       "15354  [['Not only for the locals', 'A very good rest...   \n",
       "\n",
       "                                                  URL_TA     ID_TA  \n",
       "38887  /Restaurant_Review-g187323-d9554512-Reviews-Ri...  d9554512  \n",
       "20136  /Restaurant_Review-g187791-d778316-Reviews-Ost...   d778316  \n",
       "20859  /Restaurant_Review-g274856-d9459647-Reviews-Ba...  d9459647  \n",
       "5606   /Restaurant_Review-g187497-d8029212-Reviews-La...  d8029212  \n",
       "15354  /Restaurant_Review-g189852-d740154-Reviews-Bra...   d740154  "
      ]
     },
     "execution_count": 4,
     "metadata": {},
     "output_type": "execute_result"
    }
   ],
   "source": [
    "data.sample(5)"
   ]
  },
  {
   "cell_type": "code",
   "execution_count": 5,
   "metadata": {
    "scrolled": true
   },
   "outputs": [
    {
     "name": "stdout",
     "output_type": "stream",
     "text": [
      "<class 'pandas.core.frame.DataFrame'>\n",
      "RangeIndex: 40000 entries, 0 to 39999\n",
      "Data columns (total 10 columns):\n",
      " #   Column             Non-Null Count  Dtype  \n",
      "---  ------             --------------  -----  \n",
      " 0   Restaurant_id      40000 non-null  object \n",
      " 1   City               40000 non-null  object \n",
      " 2   Cuisine Style      30717 non-null  object \n",
      " 3   Ranking            40000 non-null  float64\n",
      " 4   Rating             40000 non-null  float64\n",
      " 5   Price Range        26114 non-null  object \n",
      " 6   Number of Reviews  37457 non-null  float64\n",
      " 7   Reviews            40000 non-null  object \n",
      " 8   URL_TA             40000 non-null  object \n",
      " 9   ID_TA              40000 non-null  object \n",
      "dtypes: float64(3), object(7)\n",
      "memory usage: 3.1+ MB\n"
     ]
    }
   ],
   "source": [
    "data.info()"
   ]
  },
  {
   "cell_type": "code",
   "execution_count": 6,
   "metadata": {
    "scrolled": true
   },
   "outputs": [
    {
     "data": {
      "text/html": [
       "<div>\n",
       "<style scoped>\n",
       "    .dataframe tbody tr th:only-of-type {\n",
       "        vertical-align: middle;\n",
       "    }\n",
       "\n",
       "    .dataframe tbody tr th {\n",
       "        vertical-align: top;\n",
       "    }\n",
       "\n",
       "    .dataframe thead th {\n",
       "        text-align: right;\n",
       "    }\n",
       "</style>\n",
       "<table border=\"1\" class=\"dataframe\">\n",
       "  <thead>\n",
       "    <tr style=\"text-align: right;\">\n",
       "      <th></th>\n",
       "      <th>Ranking</th>\n",
       "      <th>Rating</th>\n",
       "      <th>Number of Reviews</th>\n",
       "    </tr>\n",
       "  </thead>\n",
       "  <tbody>\n",
       "    <tr>\n",
       "      <th>count</th>\n",
       "      <td>40000.000000</td>\n",
       "      <td>40000.000000</td>\n",
       "      <td>37457.000000</td>\n",
       "    </tr>\n",
       "    <tr>\n",
       "      <th>mean</th>\n",
       "      <td>3676.028525</td>\n",
       "      <td>3.993037</td>\n",
       "      <td>124.825480</td>\n",
       "    </tr>\n",
       "    <tr>\n",
       "      <th>std</th>\n",
       "      <td>3708.749567</td>\n",
       "      <td>0.668417</td>\n",
       "      <td>295.666352</td>\n",
       "    </tr>\n",
       "    <tr>\n",
       "      <th>min</th>\n",
       "      <td>1.000000</td>\n",
       "      <td>1.000000</td>\n",
       "      <td>2.000000</td>\n",
       "    </tr>\n",
       "    <tr>\n",
       "      <th>25%</th>\n",
       "      <td>973.000000</td>\n",
       "      <td>3.500000</td>\n",
       "      <td>9.000000</td>\n",
       "    </tr>\n",
       "    <tr>\n",
       "      <th>50%</th>\n",
       "      <td>2285.000000</td>\n",
       "      <td>4.000000</td>\n",
       "      <td>33.000000</td>\n",
       "    </tr>\n",
       "    <tr>\n",
       "      <th>75%</th>\n",
       "      <td>5260.000000</td>\n",
       "      <td>4.500000</td>\n",
       "      <td>115.000000</td>\n",
       "    </tr>\n",
       "    <tr>\n",
       "      <th>max</th>\n",
       "      <td>16444.000000</td>\n",
       "      <td>5.000000</td>\n",
       "      <td>9660.000000</td>\n",
       "    </tr>\n",
       "  </tbody>\n",
       "</table>\n",
       "</div>"
      ],
      "text/plain": [
       "            Ranking        Rating  Number of Reviews\n",
       "count  40000.000000  40000.000000       37457.000000\n",
       "mean    3676.028525      3.993037         124.825480\n",
       "std     3708.749567      0.668417         295.666352\n",
       "min        1.000000      1.000000           2.000000\n",
       "25%      973.000000      3.500000           9.000000\n",
       "50%     2285.000000      4.000000          33.000000\n",
       "75%     5260.000000      4.500000         115.000000\n",
       "max    16444.000000      5.000000        9660.000000"
      ]
     },
     "execution_count": 6,
     "metadata": {},
     "output_type": "execute_result"
    }
   ],
   "source": [
    "data.describe()"
   ]
  },
  {
   "cell_type": "markdown",
   "metadata": {},
   "source": [
    "Подробнее по признакам:\n",
    "\n",
    "City: Город\n",
    "Cuisine Style: Кухня\n",
    "Ranking: Ранг ресторана относительно других ресторанов в этом городе\n",
    "Price Range: Цены в ресторане в 3 категориях\n",
    "Number of Reviews: Количество отзывов\n",
    "Reviews: 2 последних отзыва и даты этих отзывов\n",
    "URL_TA: страница ресторана на 'www.tripadvisor.com'\n",
    "ID_TA: ID ресторана в TripAdvisor\n",
    "Rating: Рейтинг ресторана"
   ]
  },
  {
   "cell_type": "markdown",
   "metadata": {},
   "source": [
    "# Обработка Nan"
   ]
  },
  {
   "cell_type": "markdown",
   "metadata": {},
   "source": [
    "У наличия пропусков могут быть разные причины, но пропуски нужно либо заполнить, либо исключить из набора полностью. Но с пропусками нужно быть внимательным, даже отсутствие информации может быть важным признаком!\n",
    "По этому перед обработкой NAN лучше вынести информацию о наличии пропуска как отдельный признак\n",
    "\n",
    "В признаках 'Number of Reviews', 'Price Range', 'Cuisine Style' есть пропуски. Сделаем отдельную колонку для 'Number of Reviews', чтобы обозначить, где в признаках были пропуски.\n",
    "\n",
    "Для 'Cuisine Style' и 'Price Range' этого делать не будем, так как в них пропуски будут заполнены отдельным значением."
   ]
  },
  {
   "cell_type": "code",
   "execution_count": 7,
   "metadata": {},
   "outputs": [],
   "source": [
    "data['Rev_Number_NAN'] = pd.isna(data['Number of Reviews']).astype('uint8')\n"
   ]
  },
  {
   "cell_type": "code",
   "execution_count": null,
   "metadata": {},
   "outputs": [],
   "source": []
  },
  {
   "cell_type": "code",
   "execution_count": 8,
   "metadata": {
    "scrolled": true
   },
   "outputs": [
    {
     "data": {
      "text/plain": [
       "Restaurant_id        11909\n",
       "City                    31\n",
       "Cuisine Style         9008\n",
       "Ranking              11936\n",
       "Rating                   9\n",
       "Price Range              4\n",
       "Number of Reviews     1460\n",
       "Reviews              33516\n",
       "URL_TA               39980\n",
       "ID_TA                39980\n",
       "Rev_Number_NAN           2\n",
       "dtype: int64"
      ]
     },
     "execution_count": 8,
     "metadata": {},
     "output_type": "execute_result"
    }
   ],
   "source": [
    "# Посмотрим какие признаки у нас могут быть категориальными\n",
    "data.nunique(dropna=False)"
   ]
  },
  {
   "cell_type": "markdown",
   "metadata": {},
   "source": [
    "Видим, что не все id  ресторанов уникальны (возможно, одинаковыми id обозначены рестораны одной сети?).\n",
    "20 ссылок на страницу ресторана на сайте повторяются.\n",
    "Возможно, это дубли строк, но в нашем случае удалять нельзя, оставим так."
   ]
  },
  {
   "cell_type": "markdown",
   "metadata": {},
   "source": [
    "Дальше пойдем рассматривать признаки отдельно по столбцам"
   ]
  },
  {
   "cell_type": "markdown",
   "metadata": {},
   "source": [
    "# Restaurant_id"
   ]
  },
  {
   "cell_type": "code",
   "execution_count": 9,
   "metadata": {},
   "outputs": [
    {
     "data": {
      "text/plain": [
       "id_871      18\n",
       "id_227      18\n",
       "id_436      18\n",
       "id_633      18\n",
       "id_344      17\n",
       "            ..\n",
       "id_7880      1\n",
       "id_15567     1\n",
       "id_5444      1\n",
       "id_10932     1\n",
       "id_15814     1\n",
       "Name: Restaurant_id, Length: 11909, dtype: int64"
      ]
     },
     "execution_count": 9,
     "metadata": {},
     "output_type": "execute_result"
    }
   ],
   "source": [
    "data['Restaurant_id'].value_counts()"
   ]
  },
  {
   "cell_type": "code",
   "execution_count": 10,
   "metadata": {},
   "outputs": [
    {
     "data": {
      "text/plain": [
       "1.0    35295\n",
       "0.0     4705\n",
       "Name: chain, dtype: int64"
      ]
     },
     "execution_count": 10,
     "metadata": {},
     "output_type": "execute_result"
    }
   ],
   "source": [
    "# Предположим, что повторяющиеся id присвоены ресторанам одной сети\n",
    "# Создадим новый признак \"сетевой\" - 1, \"несетевой\" - 0\n",
    "\n",
    "chain_id = list(data['Restaurant_id'].value_counts()[\n",
    "                data['Restaurant_id'].value_counts() > 1].index)\n",
    "data['chain'] = data[data['Restaurant_id'].isin(\n",
    "    chain_id)]['Restaurant_id'].apply(lambda x: 1)\n",
    "data['chain'].fillna(0, inplace=True)\n",
    "data['chain'].value_counts()"
   ]
  },
  {
   "cell_type": "markdown",
   "metadata": {},
   "source": [
    "# City"
   ]
  },
  {
   "cell_type": "code",
   "execution_count": 11,
   "metadata": {},
   "outputs": [
    {
     "data": {
      "text/plain": [
       "London        5757\n",
       "Paris         4897\n",
       "Madrid        3108\n",
       "Barcelona     2734\n",
       "Berlin        2155\n",
       "Milan         2133\n",
       "Rome          2078\n",
       "Prague        1443\n",
       "Lisbon        1300\n",
       "Vienna        1166\n",
       "Amsterdam     1086\n",
       "Brussels      1060\n",
       "Hamburg        949\n",
       "Munich         893\n",
       "Lyon           892\n",
       "Stockholm      820\n",
       "Budapest       816\n",
       "Warsaw         727\n",
       "Dublin         673\n",
       "Copenhagen     659\n",
       "Athens         628\n",
       "Edinburgh      596\n",
       "Zurich         538\n",
       "Oporto         513\n",
       "Geneva         481\n",
       "Krakow         443\n",
       "Oslo           385\n",
       "Helsinki       376\n",
       "Bratislava     301\n",
       "Luxembourg     210\n",
       "Ljubljana      183\n",
       "Name: City, dtype: int64"
      ]
     },
     "execution_count": 11,
     "metadata": {},
     "output_type": "execute_result"
    }
   ],
   "source": [
    "data['City'].value_counts()"
   ]
  },
  {
   "cell_type": "markdown",
   "metadata": {},
   "source": [
    "Зададим столицы и создадим признак \"Столица\" - 1, \"Не столица\" - 0. Потом разобьем города на dummy-переменные."
   ]
  },
  {
   "cell_type": "code",
   "execution_count": 12,
   "metadata": {},
   "outputs": [],
   "source": [
    "сapitals = ['London', 'Paris', 'Madrid', 'Berlin',\n",
    "            'Rome', 'Prague', 'Lisbon', 'Vienna',\n",
    "            'Amsterdam', 'Brussels', 'Stockholm',\n",
    "            'Budapest', 'Warsaw', 'Dublin', 'Copenhagen',\n",
    "            'Athens', 'Edinburgh', 'Oslo', 'Helsinki',\n",
    "            'Bratislava', 'Luxemburg', 'Ljubljana']\n",
    "\n",
    "data['Сapital'] = data['City'].apply(lambda x: 1 if x in сapitals else 0)"
   ]
  },
  {
   "cell_type": "code",
   "execution_count": 13,
   "metadata": {},
   "outputs": [],
   "source": [
    "# Создадим признак \"Country\" и создадим dummy-переменные для стран\n",
    "country = {\n",
    "    'Paris': 'France',\n",
    "    'Hamburg': 'Germany',\n",
    "    'Rome': 'Italy',\n",
    "    'London': 'UK',\n",
    "    'Milan': 'Italy',\n",
    "    'Madrid': 'Spain',\n",
    "    'Oslo': 'Norway',\n",
    "    'Stockholm': 'Sweden',\n",
    "    'Krakow': 'Poland',\n",
    "    'Lyon': 'Paris',\n",
    "    'Lisbon': 'Portugal',\n",
    "    'Edinburgh': 'UK',\n",
    "    'Vienna': 'Austria',\n",
    "    'Warsaw': 'Poland',\n",
    "    'Amsterdam': 'Netherlands',\n",
    "    'Budapest': 'Hungary',\n",
    "    'Helsinki': 'Finland',\n",
    "    'Zurich': 'Switzerland',\n",
    "    'Luxembourg': 'Luxembourg',\n",
    "    'Berlin': 'Germany',\n",
    "    'Prague': 'Czechia',\n",
    "    'Munich': 'Germany',\n",
    "    'Bratislava': 'Slovakia',\n",
    "    'Brussels': 'Belgium',\n",
    "    'Ljubljana': 'Slovenia',\n",
    "    'Copenhagen': 'Denmark',\n",
    "    'Oporto': 'Portugal',\n",
    "    'Barcelona': 'Spain',\n",
    "    'Geneva': 'Switzerland',\n",
    "    'Athens': 'Greece',\n",
    "    'Dublin': 'Ireland'\n",
    "}\n",
    "\n",
    "data['Country'] = data['City'].map(country)\n",
    "data = pd.get_dummies(data, columns=['Country'])"
   ]
  },
  {
   "cell_type": "code",
   "execution_count": 14,
   "metadata": {},
   "outputs": [
    {
     "data": {
      "text/html": [
       "<div>\n",
       "<style scoped>\n",
       "    .dataframe tbody tr th:only-of-type {\n",
       "        vertical-align: middle;\n",
       "    }\n",
       "\n",
       "    .dataframe tbody tr th {\n",
       "        vertical-align: top;\n",
       "    }\n",
       "\n",
       "    .dataframe thead th {\n",
       "        text-align: right;\n",
       "    }\n",
       "</style>\n",
       "<table border=\"1\" class=\"dataframe\">\n",
       "  <thead>\n",
       "    <tr style=\"text-align: right;\">\n",
       "      <th></th>\n",
       "      <th>Restaurant_id</th>\n",
       "      <th>City</th>\n",
       "      <th>Cuisine Style</th>\n",
       "      <th>Ranking</th>\n",
       "      <th>Rating</th>\n",
       "      <th>Price Range</th>\n",
       "      <th>Number of Reviews</th>\n",
       "      <th>Reviews</th>\n",
       "      <th>URL_TA</th>\n",
       "      <th>ID_TA</th>\n",
       "      <th>...</th>\n",
       "      <th>Country_Norway</th>\n",
       "      <th>Country_Paris</th>\n",
       "      <th>Country_Poland</th>\n",
       "      <th>Country_Portugal</th>\n",
       "      <th>Country_Slovakia</th>\n",
       "      <th>Country_Slovenia</th>\n",
       "      <th>Country_Spain</th>\n",
       "      <th>Country_Sweden</th>\n",
       "      <th>Country_Switzerland</th>\n",
       "      <th>Country_UK</th>\n",
       "    </tr>\n",
       "  </thead>\n",
       "  <tbody>\n",
       "    <tr>\n",
       "      <th>36163</th>\n",
       "      <td>id_3012</td>\n",
       "      <td>Prague</td>\n",
       "      <td>['European', 'Czech']</td>\n",
       "      <td>3019.0</td>\n",
       "      <td>4.0</td>\n",
       "      <td>NaN</td>\n",
       "      <td>3.0</td>\n",
       "      <td>[['Great beer, good food.', 'Best burgers, ave...</td>\n",
       "      <td>/Restaurant_Review-g274707-d4768875-Reviews-U_...</td>\n",
       "      <td>d4768875</td>\n",
       "      <td>...</td>\n",
       "      <td>0</td>\n",
       "      <td>0</td>\n",
       "      <td>0</td>\n",
       "      <td>0</td>\n",
       "      <td>0</td>\n",
       "      <td>0</td>\n",
       "      <td>0</td>\n",
       "      <td>0</td>\n",
       "      <td>0</td>\n",
       "      <td>0</td>\n",
       "    </tr>\n",
       "    <tr>\n",
       "      <th>5884</th>\n",
       "      <td>id_580</td>\n",
       "      <td>Lyon</td>\n",
       "      <td>NaN</td>\n",
       "      <td>581.0</td>\n",
       "      <td>4.5</td>\n",
       "      <td>NaN</td>\n",
       "      <td>25.0</td>\n",
       "      <td>[['Great place for a drink by the river', 'Per...</td>\n",
       "      <td>/Restaurant_Review-g187265-d10622010-Reviews-V...</td>\n",
       "      <td>d10622010</td>\n",
       "      <td>...</td>\n",
       "      <td>0</td>\n",
       "      <td>1</td>\n",
       "      <td>0</td>\n",
       "      <td>0</td>\n",
       "      <td>0</td>\n",
       "      <td>0</td>\n",
       "      <td>0</td>\n",
       "      <td>0</td>\n",
       "      <td>0</td>\n",
       "      <td>0</td>\n",
       "    </tr>\n",
       "    <tr>\n",
       "      <th>3783</th>\n",
       "      <td>id_4172</td>\n",
       "      <td>Berlin</td>\n",
       "      <td>['International']</td>\n",
       "      <td>4174.0</td>\n",
       "      <td>4.5</td>\n",
       "      <td>NaN</td>\n",
       "      <td>5.0</td>\n",
       "      <td>[['Hiding in plain sight - secret restaurant.....</td>\n",
       "      <td>/Restaurant_Review-g187323-d2621534-Reviews-S_...</td>\n",
       "      <td>d2621534</td>\n",
       "      <td>...</td>\n",
       "      <td>0</td>\n",
       "      <td>0</td>\n",
       "      <td>0</td>\n",
       "      <td>0</td>\n",
       "      <td>0</td>\n",
       "      <td>0</td>\n",
       "      <td>0</td>\n",
       "      <td>0</td>\n",
       "      <td>0</td>\n",
       "      <td>0</td>\n",
       "    </tr>\n",
       "    <tr>\n",
       "      <th>32728</th>\n",
       "      <td>id_740</td>\n",
       "      <td>Lyon</td>\n",
       "      <td>['Asian', 'Vietnamese', 'Soups', 'Vegetarian F...</td>\n",
       "      <td>741.0</td>\n",
       "      <td>4.5</td>\n",
       "      <td>$</td>\n",
       "      <td>49.0</td>\n",
       "      <td>[['Outstanding Vietnamese fare', 'Good chicken...</td>\n",
       "      <td>/Restaurant_Review-g187265-d4123786-Reviews-Na...</td>\n",
       "      <td>d4123786</td>\n",
       "      <td>...</td>\n",
       "      <td>0</td>\n",
       "      <td>1</td>\n",
       "      <td>0</td>\n",
       "      <td>0</td>\n",
       "      <td>0</td>\n",
       "      <td>0</td>\n",
       "      <td>0</td>\n",
       "      <td>0</td>\n",
       "      <td>0</td>\n",
       "      <td>0</td>\n",
       "    </tr>\n",
       "    <tr>\n",
       "      <th>33196</th>\n",
       "      <td>id_373</td>\n",
       "      <td>Stockholm</td>\n",
       "      <td>['Asian', 'Vegetarian Friendly', 'Vegan Options']</td>\n",
       "      <td>374.0</td>\n",
       "      <td>4.0</td>\n",
       "      <td>$$ - $$$</td>\n",
       "      <td>70.0</td>\n",
       "      <td>[['Better than expected', 'Wish This Was an In...</td>\n",
       "      <td>/Restaurant_Review-g189852-d8633540-Reviews-Ba...</td>\n",
       "      <td>d8633540</td>\n",
       "      <td>...</td>\n",
       "      <td>0</td>\n",
       "      <td>0</td>\n",
       "      <td>0</td>\n",
       "      <td>0</td>\n",
       "      <td>0</td>\n",
       "      <td>0</td>\n",
       "      <td>0</td>\n",
       "      <td>1</td>\n",
       "      <td>0</td>\n",
       "      <td>0</td>\n",
       "    </tr>\n",
       "  </tbody>\n",
       "</table>\n",
       "<p>5 rows × 36 columns</p>\n",
       "</div>"
      ],
      "text/plain": [
       "      Restaurant_id       City  \\\n",
       "36163       id_3012     Prague   \n",
       "5884         id_580       Lyon   \n",
       "3783        id_4172     Berlin   \n",
       "32728        id_740       Lyon   \n",
       "33196        id_373  Stockholm   \n",
       "\n",
       "                                           Cuisine Style  Ranking  Rating  \\\n",
       "36163                              ['European', 'Czech']   3019.0     4.0   \n",
       "5884                                                 NaN    581.0     4.5   \n",
       "3783                                   ['International']   4174.0     4.5   \n",
       "32728  ['Asian', 'Vietnamese', 'Soups', 'Vegetarian F...    741.0     4.5   \n",
       "33196  ['Asian', 'Vegetarian Friendly', 'Vegan Options']    374.0     4.0   \n",
       "\n",
       "      Price Range  Number of Reviews  \\\n",
       "36163         NaN                3.0   \n",
       "5884          NaN               25.0   \n",
       "3783          NaN                5.0   \n",
       "32728           $               49.0   \n",
       "33196    $$ - $$$               70.0   \n",
       "\n",
       "                                                 Reviews  \\\n",
       "36163  [['Great beer, good food.', 'Best burgers, ave...   \n",
       "5884   [['Great place for a drink by the river', 'Per...   \n",
       "3783   [['Hiding in plain sight - secret restaurant.....   \n",
       "32728  [['Outstanding Vietnamese fare', 'Good chicken...   \n",
       "33196  [['Better than expected', 'Wish This Was an In...   \n",
       "\n",
       "                                                  URL_TA      ID_TA  ...  \\\n",
       "36163  /Restaurant_Review-g274707-d4768875-Reviews-U_...   d4768875  ...   \n",
       "5884   /Restaurant_Review-g187265-d10622010-Reviews-V...  d10622010  ...   \n",
       "3783   /Restaurant_Review-g187323-d2621534-Reviews-S_...   d2621534  ...   \n",
       "32728  /Restaurant_Review-g187265-d4123786-Reviews-Na...   d4123786  ...   \n",
       "33196  /Restaurant_Review-g189852-d8633540-Reviews-Ba...   d8633540  ...   \n",
       "\n",
       "       Country_Norway  Country_Paris  Country_Poland  Country_Portugal  \\\n",
       "36163               0              0               0                 0   \n",
       "5884                0              1               0                 0   \n",
       "3783                0              0               0                 0   \n",
       "32728               0              1               0                 0   \n",
       "33196               0              0               0                 0   \n",
       "\n",
       "       Country_Slovakia  Country_Slovenia  Country_Spain  Country_Sweden  \\\n",
       "36163                 0                 0              0               0   \n",
       "5884                  0                 0              0               0   \n",
       "3783                  0                 0              0               0   \n",
       "32728                 0                 0              0               0   \n",
       "33196                 0                 0              0               1   \n",
       "\n",
       "       Country_Switzerland  Country_UK  \n",
       "36163                    0           0  \n",
       "5884                     0           0  \n",
       "3783                     0           0  \n",
       "32728                    0           0  \n",
       "33196                    0           0  \n",
       "\n",
       "[5 rows x 36 columns]"
      ]
     },
     "execution_count": 14,
     "metadata": {},
     "output_type": "execute_result"
    }
   ],
   "source": [
    "data.sample(5)"
   ]
  },
  {
   "cell_type": "code",
   "execution_count": 15,
   "metadata": {},
   "outputs": [],
   "source": [
    "# Разобьем города на dummy-переменные\n",
    "data = pd.get_dummies(data, columns=['City'])"
   ]
  },
  {
   "cell_type": "markdown",
   "metadata": {},
   "source": [
    "# Cuisine Style"
   ]
  },
  {
   "cell_type": "markdown",
   "metadata": {},
   "source": [
    "Создадим список уникальных кухонь представленных во всем датасете. Пропуски заполним значением 'Unknown'. Создадим признак 'cuisine_count' - количество кухонь в каждом ресторане."
   ]
  },
  {
   "cell_type": "code",
   "execution_count": 16,
   "metadata": {},
   "outputs": [
    {
     "data": {
      "text/plain": [
       "126"
      ]
     },
     "execution_count": 16,
     "metadata": {},
     "output_type": "execute_result"
    }
   ],
   "source": [
    "data['Cuisine Style'].fillna(\"['Unknown']\", inplace=True)\n",
    "data['Cuisine Style'] = data['Cuisine Style'].apply(lambda x: eval(x))\n",
    "\n",
    "data['cuisine_count'] = data['Cuisine Style'].apply(lambda x: len(x))\n",
    "\n",
    "cuisine_list = []\n",
    "for cuisines in data['Cuisine Style']:\n",
    "    for cuisine in cuisines:\n",
    "        cuisine_list.append(cuisine)\n",
    "\n",
    "cuisine_dict = {}\n",
    "for cuisine in cuisine_list:\n",
    "    if cuisine in cuisine_dict:\n",
    "        continue\n",
    "    else:\n",
    "        cuisine_dict[cuisine] = 0\n",
    "\n",
    "for cuisine in cuisine_list:\n",
    "    cuisine_dict[cuisine] += 1\n",
    "\n",
    "len(cuisine_dict)"
   ]
  },
  {
   "cell_type": "code",
   "execution_count": 17,
   "metadata": {},
   "outputs": [
    {
     "data": {
      "text/plain": [
       "{'European': 10060,\n",
       " 'French': 3190,\n",
       " 'International': 1584,\n",
       " 'Unknown': 9283,\n",
       " 'Japanese': 1464,\n",
       " 'Sushi': 1156,\n",
       " 'Asian': 3011,\n",
       " 'Grill': 490,\n",
       " 'Vegetarian Friendly': 11189,\n",
       " 'Vegan Options': 4486,\n",
       " 'Gluten Free Options': 4113,\n",
       " 'German': 662,\n",
       " 'Central European': 1393,\n",
       " 'Italian': 5964,\n",
       " 'Pizza': 2849,\n",
       " 'Fast Food': 1705,\n",
       " 'Mediterranean': 6277,\n",
       " 'Spanish': 2798,\n",
       " 'Healthy': 620,\n",
       " 'Cafe': 2325,\n",
       " 'Thai': 743,\n",
       " 'Vietnamese': 513,\n",
       " 'Bar': 3297,\n",
       " 'Pub': 2449,\n",
       " 'Chinese': 1145,\n",
       " 'British': 1595,\n",
       " 'Polish': 365,\n",
       " 'Fusion': 577,\n",
       " 'Dutch': 294,\n",
       " 'Mexican': 445,\n",
       " 'Venezuelan': 40,\n",
       " 'South American': 372,\n",
       " 'Soups': 494,\n",
       " 'Belgian': 270,\n",
       " 'Steakhouse': 573,\n",
       " 'Latin': 302,\n",
       " 'Barbecue': 555,\n",
       " 'Argentinean': 169,\n",
       " 'Irish': 284,\n",
       " 'Seafood': 1505,\n",
       " 'Swiss': 178,\n",
       " 'Portuguese': 1107,\n",
       " 'Contemporary': 523,\n",
       " 'Wine Bar': 697,\n",
       " 'Greek': 604,\n",
       " 'Central American': 135,\n",
       " 'Indian': 1041,\n",
       " 'Middle Eastern': 782,\n",
       " 'Turkish': 444,\n",
       " 'Hungarian': 352,\n",
       " 'Pakistani': 123,\n",
       " 'Peruvian': 94,\n",
       " 'Delicatessen': 392,\n",
       " 'Eastern European': 496,\n",
       " 'Swedish': 171,\n",
       " 'Scandinavian': 342,\n",
       " 'Tibetan': 24,\n",
       " 'Nepali': 83,\n",
       " 'Korean': 167,\n",
       " 'Southwestern': 17,\n",
       " 'Czech': 595,\n",
       " 'American': 1315,\n",
       " 'Slovenian': 68,\n",
       " 'Balti': 83,\n",
       " 'Street Food': 263,\n",
       " 'Diner': 295,\n",
       " 'Brew Pub': 225,\n",
       " 'Caribbean': 93,\n",
       " 'Austrian': 380,\n",
       " 'Moroccan': 141,\n",
       " 'Halal': 598,\n",
       " 'Lebanese': 329,\n",
       " 'Russian': 58,\n",
       " 'African': 154,\n",
       " 'Ethiopian': 42,\n",
       " 'Egyptian': 20,\n",
       " 'Danish': 177,\n",
       " 'Brazilian': 127,\n",
       " 'Ecuadorean': 4,\n",
       " 'Israeli': 74,\n",
       " 'Kosher': 48,\n",
       " 'Gastropub': 471,\n",
       " 'Australian': 24,\n",
       " 'Singaporean': 19,\n",
       " 'Malaysian': 31,\n",
       " 'Minority Chinese': 11,\n",
       " 'Scottish': 163,\n",
       " 'Arabic': 51,\n",
       " 'Ukrainian': 18,\n",
       " 'Chilean': 8,\n",
       " 'Mongolian': 14,\n",
       " 'Cuban': 23,\n",
       " 'Persian': 53,\n",
       " 'Indonesian': 59,\n",
       " 'Colombian': 20,\n",
       " 'Jamaican': 25,\n",
       " 'Norwegian': 75,\n",
       " 'Hawaiian': 21,\n",
       " 'Armenian': 14,\n",
       " 'Taiwanese': 22,\n",
       " 'Bangladeshi': 76,\n",
       " 'Sri Lankan': 25,\n",
       " 'Cambodian': 20,\n",
       " 'Albanian': 8,\n",
       " 'New Zealand': 6,\n",
       " 'Croatian': 27,\n",
       " 'Central Asian': 12,\n",
       " 'Filipino': 12,\n",
       " 'Tunisian': 21,\n",
       " 'Cajun & Creole': 20,\n",
       " 'Romanian': 10,\n",
       " 'Georgian': 17,\n",
       " 'Polynesian': 2,\n",
       " 'Azerbaijani': 2,\n",
       " 'Caucasian': 4,\n",
       " 'Afghani': 22,\n",
       " 'Uzbek': 5,\n",
       " 'Salvadoran': 1,\n",
       " 'Yunnan': 1,\n",
       " 'Native American': 4,\n",
       " 'Canadian': 5,\n",
       " 'Xinjiang': 1,\n",
       " 'Burmese': 1,\n",
       " 'Fujian': 2,\n",
       " 'Welsh': 2,\n",
       " 'Latvian': 1}"
      ]
     },
     "execution_count": 17,
     "metadata": {},
     "output_type": "execute_result"
    }
   ],
   "source": [
    "cuisine_dict"
   ]
  },
  {
   "cell_type": "code",
   "execution_count": 18,
   "metadata": {
    "scrolled": true
   },
   "outputs": [
    {
     "data": {
      "text/plain": [
       "12"
      ]
     },
     "execution_count": 18,
     "metadata": {},
     "output_type": "execute_result"
    }
   ],
   "source": [
    "# Создадим список кухонь, которые встречаются чаще, чем заданное количество раз,\n",
    "# которое можно варьировать и смотреть, как это влияет на оценку.\n",
    "# Зададим это число равным 2500\n",
    "\n",
    "cuisine_limit = 2500\n",
    "frequent_cuisine = []\n",
    "for cuisine, number in cuisine_dict.items():\n",
    "    if number > cuisine_limit:\n",
    "        frequent_cuisine.append(cuisine)\n",
    "\n",
    "len(frequent_cuisine)"
   ]
  },
  {
   "cell_type": "markdown",
   "metadata": {},
   "source": [
    "Как показала работа модели, тип кухни не сильно влияет на предсказание, поэтому я оставила только примерно 10 % самых популярных кухонь."
   ]
  },
  {
   "cell_type": "code",
   "execution_count": 19,
   "metadata": {},
   "outputs": [],
   "source": [
    "# все нечастые кухни заменим на \"Other\"\n",
    "data['Cuisine Style'] = data['Cuisine Style'].map(lambda x: list(\n",
    "    set([i if i in frequent_cuisine else 'Other' for i in x])))"
   ]
  },
  {
   "cell_type": "markdown",
   "metadata": {},
   "source": [
    "Создадим dummy переменные кухонь"
   ]
  },
  {
   "cell_type": "code",
   "execution_count": 20,
   "metadata": {},
   "outputs": [],
   "source": [
    "# Создадим dummy переменные кухонь\n",
    "\n",
    "def find_item(cell):\n",
    "    if item in cell:\n",
    "        return 1\n",
    "    return 0\n",
    "\n",
    "\n",
    "for item in frequent_cuisine:\n",
    "    data[item] = data['Cuisine Style'].apply(find_item)"
   ]
  },
  {
   "cell_type": "markdown",
   "metadata": {},
   "source": [
    "# Ranking"
   ]
  },
  {
   "cell_type": "code",
   "execution_count": 21,
   "metadata": {},
   "outputs": [
    {
     "data": {
      "text/plain": [
       "<matplotlib.axes._subplots.AxesSubplot at 0x23d82559e50>"
      ]
     },
     "execution_count": 21,
     "metadata": {},
     "output_type": "execute_result"
    },
    {
     "data": {
      "image/png": "[encoded data removed]",
      "text/plain": [
       "<Figure size 720x504 with 1 Axes>"
      ]
     },
     "metadata": {
      "needs_background": "light"
     },
     "output_type": "display_data"
    }
   ],
   "source": [
    "plt.rcParams['figure.figsize'] = (10, 7)\n",
    "data['Ranking'].hist(bins=100)"
   ]
  },
  {
   "cell_type": "code",
   "execution_count": 22,
   "metadata": {},
   "outputs": [
    {
     "data": {
      "text/plain": [
       "count    40000.000000\n",
       "mean      3676.028525\n",
       "std       3708.749567\n",
       "min          1.000000\n",
       "25%        973.000000\n",
       "50%       2285.000000\n",
       "75%       5260.000000\n",
       "max      16444.000000\n",
       "Name: Ranking, dtype: float64"
      ]
     },
     "execution_count": 22,
     "metadata": {},
     "output_type": "execute_result"
    }
   ],
   "source": [
    "data['Ranking'].describe()"
   ]
  },
  {
   "cell_type": "markdown",
   "metadata": {},
   "source": [
    "Разброс большой, проведем нормализацию"
   ]
  },
  {
   "cell_type": "code",
   "execution_count": 23,
   "metadata": {},
   "outputs": [],
   "source": [
    "scaler = MinMaxScaler()\n",
    "data['Norm_Ranking'] = scaler.fit_transform(pd.DataFrame(data['Ranking']))"
   ]
  },
  {
   "cell_type": "code",
   "execution_count": 24,
   "metadata": {},
   "outputs": [
    {
     "data": {
      "text/plain": [
       "<matplotlib.axes._subplots.AxesSubplot at 0x23d82127d30>"
      ]
     },
     "execution_count": 24,
     "metadata": {},
     "output_type": "execute_result"
    },
    {
     "data": {
      "image/png": "[encoded data removed]",
      "text/plain": [
       "<Figure size 720x360 with 1 Axes>"
      ]
     },
     "metadata": {
      "needs_background": "light"
     },
     "output_type": "display_data"
    }
   ],
   "source": [
    "# Посмотрим распределение целевой переменной относительно признака Norm_Ranking\n",
    "\n",
    "plt.figure(figsize=(10, 5))\n",
    "data['Norm_Ranking'][data['Rating'] == 5].hist(bins=100)"
   ]
  },
  {
   "cell_type": "code",
   "execution_count": 25,
   "metadata": {},
   "outputs": [
    {
     "data": {
      "text/plain": [
       "<matplotlib.axes._subplots.AxesSubplot at 0x23d847ca670>"
      ]
     },
     "execution_count": 25,
     "metadata": {},
     "output_type": "execute_result"
    },
    {
     "data": {
      "image/png": "[encoded data removed]",
      "text/plain": [
       "<Figure size 720x360 with 1 Axes>"
      ]
     },
     "metadata": {
      "needs_background": "light"
     },
     "output_type": "display_data"
    }
   ],
   "source": [
    "plt.figure(figsize=(10, 5))\n",
    "data['Norm_Ranking'][data['Rating'] < 4].hist(bins=100)"
   ]
  },
  {
   "cell_type": "code",
   "execution_count": 26,
   "metadata": {},
   "outputs": [
    {
     "data": {
      "image/png": "[encoded data removed]",
      "text/plain": [
       "<Figure size 720x504 with 1 Axes>"
      ]
     },
     "metadata": {
      "needs_background": "light"
     },
     "output_type": "display_data"
    }
   ],
   "source": [
    "# Посмтрим распределение рейтинга в зависимости от ранга\n",
    "\n",
    "for x in data.Rating.unique():\n",
    "    np.sqrt(data['Norm_Ranking'][data['Rating'] == x]).hist(bins=100)"
   ]
  },
  {
   "cell_type": "markdown",
   "metadata": {},
   "source": [
    "# Rating"
   ]
  },
  {
   "cell_type": "markdown",
   "metadata": {},
   "source": [
    "Проверим, что в рейтинге все значения находятся в пределах 0-5"
   ]
  },
  {
   "cell_type": "code",
   "execution_count": 27,
   "metadata": {},
   "outputs": [
    {
     "data": {
      "text/plain": [
       "4.0    13692\n",
       "4.5    10929\n",
       "3.5     6824\n",
       "5.0     3879\n",
       "3.0     2955\n",
       "2.5      915\n",
       "2.0      466\n",
       "1.0      201\n",
       "1.5      139\n",
       "Name: Rating, dtype: int64"
      ]
     },
     "execution_count": 27,
     "metadata": {},
     "output_type": "execute_result"
    }
   ],
   "source": [
    "data['Rating'].value_counts()  # Выбросов нет"
   ]
  },
  {
   "cell_type": "markdown",
   "metadata": {},
   "source": [
    "# Price Range"
   ]
  },
  {
   "cell_type": "code",
   "execution_count": 28,
   "metadata": {},
   "outputs": [
    {
     "data": {
      "text/plain": [
       "$$ - $$$    18412\n",
       "$            6279\n",
       "$$$$         1423\n",
       "Name: Price Range, dtype: int64"
      ]
     },
     "execution_count": 28,
     "metadata": {},
     "output_type": "execute_result"
    }
   ],
   "source": [
    "data['Price Range'].value_counts()"
   ]
  },
  {
   "cell_type": "code",
   "execution_count": 29,
   "metadata": {},
   "outputs": [],
   "source": [
    "# Заполним пропуски нулями.\n",
    "data['Price Range'].fillna(0, inplace=True)\n",
    "\n",
    "# Присваиваем категории ценовым диапазонам\n",
    "# '$' - 1\n",
    "# '$$ - $$$' - 2\n",
    "# '$$$$' - 3\n",
    "data['Price Range'] = data['Price Range'].replace(['$'], '1')\n",
    "data['Price Range'] = data['Price Range'].replace(['$$ - $$$'], '2')\n",
    "data['Price Range'] = data['Price Range'].replace(['$$$$'], '3')\n",
    "\n",
    "data['Price Range'] = data['Price Range'].astype('float64')"
   ]
  },
  {
   "cell_type": "code",
   "execution_count": 30,
   "metadata": {},
   "outputs": [
    {
     "data": {
      "text/plain": [
       "<matplotlib.axes._subplots.AxesSubplot at 0x23d850133d0>"
      ]
     },
     "execution_count": 30,
     "metadata": {},
     "output_type": "execute_result"
    },
    {
     "data": {
      "image/png": "[encoded data removed]",
      "text/plain": [
       "<Figure size 720x504 with 1 Axes>"
      ]
     },
     "metadata": {
      "needs_background": "light"
     },
     "output_type": "display_data"
    }
   ],
   "source": [
    "sns.boxplot(x='Price Range', y='Rating', data=data)"
   ]
  },
  {
   "cell_type": "markdown",
   "metadata": {},
   "source": [
    "Видно, что у дорогих ресторанов разброс рейтинга поменьше "
   ]
  },
  {
   "cell_type": "markdown",
   "metadata": {},
   "source": [
    "# Number of Reviews"
   ]
  },
  {
   "cell_type": "code",
   "execution_count": 31,
   "metadata": {},
   "outputs": [
    {
     "data": {
      "text/html": [
       "<div>\n",
       "<style scoped>\n",
       "    .dataframe tbody tr th:only-of-type {\n",
       "        vertical-align: middle;\n",
       "    }\n",
       "\n",
       "    .dataframe tbody tr th {\n",
       "        vertical-align: top;\n",
       "    }\n",
       "\n",
       "    .dataframe thead th {\n",
       "        text-align: right;\n",
       "    }\n",
       "</style>\n",
       "<table border=\"1\" class=\"dataframe\">\n",
       "  <thead>\n",
       "    <tr style=\"text-align: right;\">\n",
       "      <th></th>\n",
       "      <th>Restaurant_id</th>\n",
       "      <th>Cuisine Style</th>\n",
       "      <th>Ranking</th>\n",
       "      <th>Rating</th>\n",
       "      <th>Price Range</th>\n",
       "      <th>Number of Reviews</th>\n",
       "      <th>Reviews</th>\n",
       "      <th>URL_TA</th>\n",
       "      <th>ID_TA</th>\n",
       "      <th>Rev_Number_NAN</th>\n",
       "      <th>...</th>\n",
       "      <th>Asian</th>\n",
       "      <th>Vegetarian Friendly</th>\n",
       "      <th>Vegan Options</th>\n",
       "      <th>Gluten Free Options</th>\n",
       "      <th>Italian</th>\n",
       "      <th>Pizza</th>\n",
       "      <th>Mediterranean</th>\n",
       "      <th>Spanish</th>\n",
       "      <th>Bar</th>\n",
       "      <th>Norm_Ranking</th>\n",
       "    </tr>\n",
       "  </thead>\n",
       "  <tbody>\n",
       "    <tr>\n",
       "      <th>8</th>\n",
       "      <td>id_2690</td>\n",
       "      <td>[Unknown]</td>\n",
       "      <td>2692.0</td>\n",
       "      <td>4.0</td>\n",
       "      <td>0.0</td>\n",
       "      <td>NaN</td>\n",
       "      <td>[[], []]</td>\n",
       "      <td>/Restaurant_Review-g190454-d12845029-Reviews-G...</td>\n",
       "      <td>d12845029</td>\n",
       "      <td>1</td>\n",
       "      <td>...</td>\n",
       "      <td>0</td>\n",
       "      <td>0</td>\n",
       "      <td>0</td>\n",
       "      <td>0</td>\n",
       "      <td>0</td>\n",
       "      <td>0</td>\n",
       "      <td>0</td>\n",
       "      <td>0</td>\n",
       "      <td>0</td>\n",
       "      <td>0.163656</td>\n",
       "    </tr>\n",
       "    <tr>\n",
       "      <th>21</th>\n",
       "      <td>id_5844</td>\n",
       "      <td>[Unknown]</td>\n",
       "      <td>5847.0</td>\n",
       "      <td>4.0</td>\n",
       "      <td>0.0</td>\n",
       "      <td>NaN</td>\n",
       "      <td>[[], []]</td>\n",
       "      <td>/Restaurant_Review-g187514-d10058810-Reviews-B...</td>\n",
       "      <td>d10058810</td>\n",
       "      <td>1</td>\n",
       "      <td>...</td>\n",
       "      <td>0</td>\n",
       "      <td>0</td>\n",
       "      <td>0</td>\n",
       "      <td>0</td>\n",
       "      <td>0</td>\n",
       "      <td>0</td>\n",
       "      <td>0</td>\n",
       "      <td>0</td>\n",
       "      <td>0</td>\n",
       "      <td>0.355531</td>\n",
       "    </tr>\n",
       "    <tr>\n",
       "      <th>32</th>\n",
       "      <td>id_1327</td>\n",
       "      <td>[Unknown]</td>\n",
       "      <td>1328.0</td>\n",
       "      <td>5.0</td>\n",
       "      <td>0.0</td>\n",
       "      <td>NaN</td>\n",
       "      <td>[['Absolutely amazing, tasty, fresh, cheap Ch....</td>\n",
       "      <td>/Restaurant_Review-g274887-d8791087-Reviews-Bu...</td>\n",
       "      <td>d8791087</td>\n",
       "      <td>1</td>\n",
       "      <td>...</td>\n",
       "      <td>0</td>\n",
       "      <td>0</td>\n",
       "      <td>0</td>\n",
       "      <td>0</td>\n",
       "      <td>0</td>\n",
       "      <td>0</td>\n",
       "      <td>0</td>\n",
       "      <td>0</td>\n",
       "      <td>0</td>\n",
       "      <td>0.080703</td>\n",
       "    </tr>\n",
       "    <tr>\n",
       "      <th>102</th>\n",
       "      <td>id_1409</td>\n",
       "      <td>[European, French, Other]</td>\n",
       "      <td>1410.0</td>\n",
       "      <td>5.0</td>\n",
       "      <td>0.0</td>\n",
       "      <td>NaN</td>\n",
       "      <td>[[], []]</td>\n",
       "      <td>/Restaurant_Review-g274887-d13197631-Reviews-L...</td>\n",
       "      <td>d13197631</td>\n",
       "      <td>1</td>\n",
       "      <td>...</td>\n",
       "      <td>0</td>\n",
       "      <td>0</td>\n",
       "      <td>0</td>\n",
       "      <td>0</td>\n",
       "      <td>0</td>\n",
       "      <td>0</td>\n",
       "      <td>0</td>\n",
       "      <td>0</td>\n",
       "      <td>0</td>\n",
       "      <td>0.085690</td>\n",
       "    </tr>\n",
       "    <tr>\n",
       "      <th>108</th>\n",
       "      <td>id_2047</td>\n",
       "      <td>[Italian, Mediterranean]</td>\n",
       "      <td>2050.0</td>\n",
       "      <td>5.0</td>\n",
       "      <td>2.0</td>\n",
       "      <td>NaN</td>\n",
       "      <td>[[], []]</td>\n",
       "      <td>/Restaurant_Review-g274707-d12243659-Reviews-T...</td>\n",
       "      <td>d12243659</td>\n",
       "      <td>1</td>\n",
       "      <td>...</td>\n",
       "      <td>0</td>\n",
       "      <td>0</td>\n",
       "      <td>0</td>\n",
       "      <td>0</td>\n",
       "      <td>1</td>\n",
       "      <td>0</td>\n",
       "      <td>1</td>\n",
       "      <td>0</td>\n",
       "      <td>0</td>\n",
       "      <td>0.124612</td>\n",
       "    </tr>\n",
       "    <tr>\n",
       "      <th>...</th>\n",
       "      <td>...</td>\n",
       "      <td>...</td>\n",
       "      <td>...</td>\n",
       "      <td>...</td>\n",
       "      <td>...</td>\n",
       "      <td>...</td>\n",
       "      <td>...</td>\n",
       "      <td>...</td>\n",
       "      <td>...</td>\n",
       "      <td>...</td>\n",
       "      <td>...</td>\n",
       "      <td>...</td>\n",
       "      <td>...</td>\n",
       "      <td>...</td>\n",
       "      <td>...</td>\n",
       "      <td>...</td>\n",
       "      <td>...</td>\n",
       "      <td>...</td>\n",
       "      <td>...</td>\n",
       "      <td>...</td>\n",
       "      <td>...</td>\n",
       "    </tr>\n",
       "    <tr>\n",
       "      <th>39965</th>\n",
       "      <td>id_5720</td>\n",
       "      <td>[Unknown]</td>\n",
       "      <td>5722.0</td>\n",
       "      <td>5.0</td>\n",
       "      <td>0.0</td>\n",
       "      <td>NaN</td>\n",
       "      <td>[[], []]</td>\n",
       "      <td>/Restaurant_Review-g187791-d793376-Reviews-Wes...</td>\n",
       "      <td>d793376</td>\n",
       "      <td>1</td>\n",
       "      <td>...</td>\n",
       "      <td>0</td>\n",
       "      <td>0</td>\n",
       "      <td>0</td>\n",
       "      <td>0</td>\n",
       "      <td>0</td>\n",
       "      <td>0</td>\n",
       "      <td>0</td>\n",
       "      <td>0</td>\n",
       "      <td>0</td>\n",
       "      <td>0.347929</td>\n",
       "    </tr>\n",
       "    <tr>\n",
       "      <th>39972</th>\n",
       "      <td>id_2009</td>\n",
       "      <td>[Other]</td>\n",
       "      <td>2012.0</td>\n",
       "      <td>5.0</td>\n",
       "      <td>1.0</td>\n",
       "      <td>NaN</td>\n",
       "      <td>[['Personal expirence'], ['10/27/2017']]</td>\n",
       "      <td>/Restaurant_Review-g274707-d12981295-Reviews-M...</td>\n",
       "      <td>d12981295</td>\n",
       "      <td>1</td>\n",
       "      <td>...</td>\n",
       "      <td>0</td>\n",
       "      <td>0</td>\n",
       "      <td>0</td>\n",
       "      <td>0</td>\n",
       "      <td>0</td>\n",
       "      <td>0</td>\n",
       "      <td>0</td>\n",
       "      <td>0</td>\n",
       "      <td>0</td>\n",
       "      <td>0.122301</td>\n",
       "    </tr>\n",
       "    <tr>\n",
       "      <th>39986</th>\n",
       "      <td>id_7274</td>\n",
       "      <td>[Unknown]</td>\n",
       "      <td>7279.0</td>\n",
       "      <td>3.0</td>\n",
       "      <td>0.0</td>\n",
       "      <td>NaN</td>\n",
       "      <td>[[], []]</td>\n",
       "      <td>/Restaurant_Review-g187514-d12182212-Reviews-C...</td>\n",
       "      <td>d12182212</td>\n",
       "      <td>1</td>\n",
       "      <td>...</td>\n",
       "      <td>0</td>\n",
       "      <td>0</td>\n",
       "      <td>0</td>\n",
       "      <td>0</td>\n",
       "      <td>0</td>\n",
       "      <td>0</td>\n",
       "      <td>0</td>\n",
       "      <td>0</td>\n",
       "      <td>0</td>\n",
       "      <td>0.442620</td>\n",
       "    </tr>\n",
       "    <tr>\n",
       "      <th>39988</th>\n",
       "      <td>id_4968</td>\n",
       "      <td>[Unknown]</td>\n",
       "      <td>4970.0</td>\n",
       "      <td>4.0</td>\n",
       "      <td>0.0</td>\n",
       "      <td>NaN</td>\n",
       "      <td>[[], []]</td>\n",
       "      <td>/Restaurant_Review-g187323-d7761701-Reviews-Ar...</td>\n",
       "      <td>d7761701</td>\n",
       "      <td>1</td>\n",
       "      <td>...</td>\n",
       "      <td>0</td>\n",
       "      <td>0</td>\n",
       "      <td>0</td>\n",
       "      <td>0</td>\n",
       "      <td>0</td>\n",
       "      <td>0</td>\n",
       "      <td>0</td>\n",
       "      <td>0</td>\n",
       "      <td>0</td>\n",
       "      <td>0.302195</td>\n",
       "    </tr>\n",
       "    <tr>\n",
       "      <th>39989</th>\n",
       "      <td>id_8887</td>\n",
       "      <td>[Other]</td>\n",
       "      <td>8896.0</td>\n",
       "      <td>5.0</td>\n",
       "      <td>0.0</td>\n",
       "      <td>NaN</td>\n",
       "      <td>[['I love this place!'], ['08/24/2015']]</td>\n",
       "      <td>/Restaurant_Review-g186338-d5550626-Reviews-Th...</td>\n",
       "      <td>d5550626</td>\n",
       "      <td>1</td>\n",
       "      <td>...</td>\n",
       "      <td>0</td>\n",
       "      <td>0</td>\n",
       "      <td>0</td>\n",
       "      <td>0</td>\n",
       "      <td>0</td>\n",
       "      <td>0</td>\n",
       "      <td>0</td>\n",
       "      <td>0</td>\n",
       "      <td>0</td>\n",
       "      <td>0.540960</td>\n",
       "    </tr>\n",
       "  </tbody>\n",
       "</table>\n",
       "<p>2543 rows × 80 columns</p>\n",
       "</div>"
      ],
      "text/plain": [
       "      Restaurant_id              Cuisine Style  Ranking  Rating  Price Range  \\\n",
       "8           id_2690                  [Unknown]   2692.0     4.0          0.0   \n",
       "21          id_5844                  [Unknown]   5847.0     4.0          0.0   \n",
       "32          id_1327                  [Unknown]   1328.0     5.0          0.0   \n",
       "102         id_1409  [European, French, Other]   1410.0     5.0          0.0   \n",
       "108         id_2047   [Italian, Mediterranean]   2050.0     5.0          2.0   \n",
       "...             ...                        ...      ...     ...          ...   \n",
       "39965       id_5720                  [Unknown]   5722.0     5.0          0.0   \n",
       "39972       id_2009                    [Other]   2012.0     5.0          1.0   \n",
       "39986       id_7274                  [Unknown]   7279.0     3.0          0.0   \n",
       "39988       id_4968                  [Unknown]   4970.0     4.0          0.0   \n",
       "39989       id_8887                    [Other]   8896.0     5.0          0.0   \n",
       "\n",
       "       Number of Reviews                                            Reviews  \\\n",
       "8                    NaN                                           [[], []]   \n",
       "21                   NaN                                           [[], []]   \n",
       "32                   NaN  [['Absolutely amazing, tasty, fresh, cheap Ch....   \n",
       "102                  NaN                                           [[], []]   \n",
       "108                  NaN                                           [[], []]   \n",
       "...                  ...                                                ...   \n",
       "39965                NaN                                           [[], []]   \n",
       "39972                NaN           [['Personal expirence'], ['10/27/2017']]   \n",
       "39986                NaN                                           [[], []]   \n",
       "39988                NaN                                           [[], []]   \n",
       "39989                NaN           [['I love this place!'], ['08/24/2015']]   \n",
       "\n",
       "                                                  URL_TA      ID_TA  \\\n",
       "8      /Restaurant_Review-g190454-d12845029-Reviews-G...  d12845029   \n",
       "21     /Restaurant_Review-g187514-d10058810-Reviews-B...  d10058810   \n",
       "32     /Restaurant_Review-g274887-d8791087-Reviews-Bu...   d8791087   \n",
       "102    /Restaurant_Review-g274887-d13197631-Reviews-L...  d13197631   \n",
       "108    /Restaurant_Review-g274707-d12243659-Reviews-T...  d12243659   \n",
       "...                                                  ...        ...   \n",
       "39965  /Restaurant_Review-g187791-d793376-Reviews-Wes...    d793376   \n",
       "39972  /Restaurant_Review-g274707-d12981295-Reviews-M...  d12981295   \n",
       "39986  /Restaurant_Review-g187514-d12182212-Reviews-C...  d12182212   \n",
       "39988  /Restaurant_Review-g187323-d7761701-Reviews-Ar...   d7761701   \n",
       "39989  /Restaurant_Review-g186338-d5550626-Reviews-Th...   d5550626   \n",
       "\n",
       "       Rev_Number_NAN  ...  Asian  Vegetarian Friendly  Vegan Options  \\\n",
       "8                   1  ...      0                    0              0   \n",
       "21                  1  ...      0                    0              0   \n",
       "32                  1  ...      0                    0              0   \n",
       "102                 1  ...      0                    0              0   \n",
       "108                 1  ...      0                    0              0   \n",
       "...               ...  ...    ...                  ...            ...   \n",
       "39965               1  ...      0                    0              0   \n",
       "39972               1  ...      0                    0              0   \n",
       "39986               1  ...      0                    0              0   \n",
       "39988               1  ...      0                    0              0   \n",
       "39989               1  ...      0                    0              0   \n",
       "\n",
       "       Gluten Free Options  Italian  Pizza  Mediterranean  Spanish  Bar  \\\n",
       "8                        0        0      0              0        0    0   \n",
       "21                       0        0      0              0        0    0   \n",
       "32                       0        0      0              0        0    0   \n",
       "102                      0        0      0              0        0    0   \n",
       "108                      0        1      0              1        0    0   \n",
       "...                    ...      ...    ...            ...      ...  ...   \n",
       "39965                    0        0      0              0        0    0   \n",
       "39972                    0        0      0              0        0    0   \n",
       "39986                    0        0      0              0        0    0   \n",
       "39988                    0        0      0              0        0    0   \n",
       "39989                    0        0      0              0        0    0   \n",
       "\n",
       "       Norm_Ranking  \n",
       "8          0.163656  \n",
       "21         0.355531  \n",
       "32         0.080703  \n",
       "102        0.085690  \n",
       "108        0.124612  \n",
       "...             ...  \n",
       "39965      0.347929  \n",
       "39972      0.122301  \n",
       "39986      0.442620  \n",
       "39988      0.302195  \n",
       "39989      0.540960  \n",
       "\n",
       "[2543 rows x 80 columns]"
      ]
     },
     "execution_count": 31,
     "metadata": {},
     "output_type": "execute_result"
    }
   ],
   "source": [
    "# Посмотрим, есть ли закономерность по пропускам\n",
    "data[data['Number of Reviews'].isna()]"
   ]
  },
  {
   "cell_type": "markdown",
   "metadata": {},
   "source": [
    "Пропуски там, где нет отзывов в 'Reviews' или 1 отзыв. Так как максимум в этой колонке 9660, то нет большой разницы, будем мы заполнять ее 0 или 1. Заполним пропуски нулями."
   ]
  },
  {
   "cell_type": "code",
   "execution_count": 32,
   "metadata": {},
   "outputs": [],
   "source": [
    "data['Number of Reviews'].fillna(0, inplace=True)"
   ]
  },
  {
   "cell_type": "markdown",
   "metadata": {},
   "source": [
    "# Reviews"
   ]
  },
  {
   "cell_type": "markdown",
   "metadata": {},
   "source": [
    "Колонка имеет структуру списка списков [['отзыв', 'отзыв'], ['дата', 'дата']], но тип - строка"
   ]
  },
  {
   "cell_type": "code",
   "execution_count": 33,
   "metadata": {},
   "outputs": [],
   "source": [
    "# заменим пропуски\n",
    "data['Reviews'] = data['Reviews'].fillna(\"[['', ''], ['', '']]\")"
   ]
  },
  {
   "cell_type": "markdown",
   "metadata": {},
   "source": [
    "Найдем строки, на которых происходит сбой:"
   ]
  },
  {
   "cell_type": "code",
   "execution_count": 34,
   "metadata": {},
   "outputs": [
    {
     "name": "stdout",
     "output_type": "stream",
     "text": [
      "[['Will certainly be back', nan], ['11/26/2017', '07/27/2017']]\n",
      "[[nan, 'Good food with decent service'], ['11/21/2017', '07/21/2017']]\n"
     ]
    }
   ],
   "source": [
    "for Review in data['Reviews']:\n",
    "    try:\n",
    "        temp = eval(Review)\n",
    "    except:\n",
    "        print(Review)"
   ]
  },
  {
   "cell_type": "markdown",
   "metadata": {},
   "source": [
    "Заменим все \"неправильные\" значения, заодно заменим [[], []] на [['', ''], ['', '']]. Переведем строку в список."
   ]
  },
  {
   "cell_type": "code",
   "execution_count": 35,
   "metadata": {},
   "outputs": [],
   "source": [
    "data['Reviews'] = data['Reviews'].apply(lambda x: x.replace(\n",
    "    'nan', '').replace(\"[,\", \"['',\").replace('[[], []]', \"[['', ''], ['', '']]\"))\n",
    "data['Reviews'] = data['Reviews'].apply(lambda x: eval(x))"
   ]
  },
  {
   "cell_type": "markdown",
   "metadata": {},
   "source": [
    "Разнесем даты и отзывы по отдельным колонкам:"
   ]
  },
  {
   "cell_type": "code",
   "execution_count": 36,
   "metadata": {},
   "outputs": [],
   "source": [
    "data['Review_1'] = data['Reviews'].apply(lambda x: x[0][0])\n",
    "data['Review_2'] = data['Reviews'].apply(\n",
    "    lambda x: x[0][1] if len(x[0]) == 2 else '')\n",
    "data['date_1'] = data['Reviews'].apply(lambda x: x[1][0])\n",
    "data['date_2'] = data['Reviews'].apply(\n",
    "    lambda x: x[1][1] if len(x[1]) == 2 else '')\n",
    "data['date_1'] = pd.to_datetime(data['date_1'])\n",
    "data['date_2'] = pd.to_datetime(data['date_2'])"
   ]
  },
  {
   "cell_type": "markdown",
   "metadata": {},
   "source": [
    "Найдем самую раннюю дату во всем датафрейме и заполним ею пропуски."
   ]
  },
  {
   "cell_type": "code",
   "execution_count": 37,
   "metadata": {},
   "outputs": [],
   "source": [
    "min_date = min(data['date_1'].min(), data['date_2'].min())\n",
    "data['date_1'] = data['date_1'].fillna(min_date)\n",
    "data['date_2'] = data['date_2'].fillna(min_date)"
   ]
  },
  {
   "cell_type": "code",
   "execution_count": 38,
   "metadata": {},
   "outputs": [],
   "source": [
    "# Минимальное количество дней от текущей даты до последнего отзыва:\n",
    "now = datetime.today()\n",
    "data['time_delta'] = data[['date_1', 'date_1']].max(\n",
    "    axis=1).apply(lambda x: (now-x).days)"
   ]
  },
  {
   "cell_type": "code",
   "execution_count": 39,
   "metadata": {},
   "outputs": [],
   "source": [
    "# Количество дней между отзывами\n",
    "data['review_time_delta'] = abs((data['date_1'] - data['date_2']).dt.days)"
   ]
  },
  {
   "cell_type": "code",
   "execution_count": null,
   "metadata": {},
   "outputs": [],
   "source": []
  },
  {
   "cell_type": "code",
   "execution_count": 40,
   "metadata": {},
   "outputs": [],
   "source": [
    "# Удалим ненужные столбцы\n",
    "data.drop(['Restaurant_id', 'Cuisine Style', 'Ranking', 'Reviews', 'URL_TA',\n",
    "           'Review_1', 'Review_2', 'date_1', 'date_2', 'ID_TA'], axis=1, inplace=True)"
   ]
  },
  {
   "cell_type": "code",
   "execution_count": 41,
   "metadata": {
    "scrolled": true
   },
   "outputs": [
    {
     "data": {
      "text/html": [
       "<div>\n",
       "<style scoped>\n",
       "    .dataframe tbody tr th:only-of-type {\n",
       "        vertical-align: middle;\n",
       "    }\n",
       "\n",
       "    .dataframe tbody tr th {\n",
       "        vertical-align: top;\n",
       "    }\n",
       "\n",
       "    .dataframe thead th {\n",
       "        text-align: right;\n",
       "    }\n",
       "</style>\n",
       "<table border=\"1\" class=\"dataframe\">\n",
       "  <thead>\n",
       "    <tr style=\"text-align: right;\">\n",
       "      <th></th>\n",
       "      <th>Rating</th>\n",
       "      <th>Price Range</th>\n",
       "      <th>Number of Reviews</th>\n",
       "      <th>Rev_Number_NAN</th>\n",
       "      <th>chain</th>\n",
       "      <th>Сapital</th>\n",
       "      <th>Country_Austria</th>\n",
       "      <th>Country_Belgium</th>\n",
       "      <th>Country_Czechia</th>\n",
       "      <th>Country_Denmark</th>\n",
       "      <th>...</th>\n",
       "      <th>Vegan Options</th>\n",
       "      <th>Gluten Free Options</th>\n",
       "      <th>Italian</th>\n",
       "      <th>Pizza</th>\n",
       "      <th>Mediterranean</th>\n",
       "      <th>Spanish</th>\n",
       "      <th>Bar</th>\n",
       "      <th>Norm_Ranking</th>\n",
       "      <th>time_delta</th>\n",
       "      <th>review_time_delta</th>\n",
       "    </tr>\n",
       "  </thead>\n",
       "  <tbody>\n",
       "    <tr>\n",
       "      <th>0</th>\n",
       "      <td>3.5</td>\n",
       "      <td>2.0</td>\n",
       "      <td>194.0</td>\n",
       "      <td>0</td>\n",
       "      <td>1.0</td>\n",
       "      <td>1</td>\n",
       "      <td>0</td>\n",
       "      <td>0</td>\n",
       "      <td>0</td>\n",
       "      <td>0</td>\n",
       "      <td>...</td>\n",
       "      <td>0</td>\n",
       "      <td>0</td>\n",
       "      <td>0</td>\n",
       "      <td>0</td>\n",
       "      <td>0</td>\n",
       "      <td>0</td>\n",
       "      <td>0</td>\n",
       "      <td>0.338685</td>\n",
       "      <td>1108</td>\n",
       "      <td>41</td>\n",
       "    </tr>\n",
       "    <tr>\n",
       "      <th>1</th>\n",
       "      <td>4.0</td>\n",
       "      <td>0.0</td>\n",
       "      <td>10.0</td>\n",
       "      <td>0</td>\n",
       "      <td>1.0</td>\n",
       "      <td>1</td>\n",
       "      <td>0</td>\n",
       "      <td>0</td>\n",
       "      <td>0</td>\n",
       "      <td>0</td>\n",
       "      <td>...</td>\n",
       "      <td>0</td>\n",
       "      <td>0</td>\n",
       "      <td>0</td>\n",
       "      <td>0</td>\n",
       "      <td>0</td>\n",
       "      <td>0</td>\n",
       "      <td>0</td>\n",
       "      <td>0.093414</td>\n",
       "      <td>1286</td>\n",
       "      <td>382</td>\n",
       "    </tr>\n",
       "    <tr>\n",
       "      <th>2</th>\n",
       "      <td>4.5</td>\n",
       "      <td>3.0</td>\n",
       "      <td>688.0</td>\n",
       "      <td>0</td>\n",
       "      <td>1.0</td>\n",
       "      <td>1</td>\n",
       "      <td>0</td>\n",
       "      <td>0</td>\n",
       "      <td>0</td>\n",
       "      <td>0</td>\n",
       "      <td>...</td>\n",
       "      <td>1</td>\n",
       "      <td>1</td>\n",
       "      <td>0</td>\n",
       "      <td>0</td>\n",
       "      <td>0</td>\n",
       "      <td>0</td>\n",
       "      <td>0</td>\n",
       "      <td>0.021407</td>\n",
       "      <td>1100</td>\n",
       "      <td>2</td>\n",
       "    </tr>\n",
       "  </tbody>\n",
       "</table>\n",
       "<p>3 rows × 76 columns</p>\n",
       "</div>"
      ],
      "text/plain": [
       "   Rating  Price Range  Number of Reviews  Rev_Number_NAN  chain  Сapital  \\\n",
       "0     3.5          2.0              194.0               0    1.0        1   \n",
       "1     4.0          0.0               10.0               0    1.0        1   \n",
       "2     4.5          3.0              688.0               0    1.0        1   \n",
       "\n",
       "   Country_Austria  Country_Belgium  Country_Czechia  Country_Denmark  ...  \\\n",
       "0                0                0                0                0  ...   \n",
       "1                0                0                0                0  ...   \n",
       "2                0                0                0                0  ...   \n",
       "\n",
       "   Vegan Options  Gluten Free Options  Italian  Pizza  Mediterranean  Spanish  \\\n",
       "0              0                    0        0      0              0        0   \n",
       "1              0                    0        0      0              0        0   \n",
       "2              1                    1        0      0              0        0   \n",
       "\n",
       "   Bar  Norm_Ranking  time_delta  review_time_delta  \n",
       "0    0      0.338685        1108                 41  \n",
       "1    0      0.093414        1286                382  \n",
       "2    0      0.021407        1100                  2  \n",
       "\n",
       "[3 rows x 76 columns]"
      ]
     },
     "execution_count": 41,
     "metadata": {},
     "output_type": "execute_result"
    }
   ],
   "source": [
    "data.head(3)"
   ]
  },
  {
   "cell_type": "markdown",
   "metadata": {},
   "source": [
    "# Кореляция признаков"
   ]
  },
  {
   "cell_type": "code",
   "execution_count": 42,
   "metadata": {},
   "outputs": [
    {
     "data": {
      "text/plain": [
       "<matplotlib.axes._subplots.AxesSubplot at 0x23d848cff40>"
      ]
     },
     "execution_count": 42,
     "metadata": {},
     "output_type": "execute_result"
    },
    {
     "data": {
      "image/png": "[encoded data removed]",
      "text/plain": [
       "<Figure size 1800x1440 with 2 Axes>"
      ]
     },
     "metadata": {
      "needs_background": "light"
     },
     "output_type": "display_data"
    }
   ],
   "source": [
    "plt.rcParams['figure.figsize'] = (25, 20)\n",
    "correlation = data.corr()\n",
    "sns.heatmap(correlation, cmap='coolwarm')"
   ]
  },
  {
   "cell_type": "code",
   "execution_count": 43,
   "metadata": {},
   "outputs": [],
   "source": [
    "# Х - данные с информацией о ресторанах, у - целевая переменная (рейтинги ресторанов)\n",
    "X = data.drop(['Rating'], axis=1)\n",
    "y = data['Rating']"
   ]
  },
  {
   "cell_type": "code",
   "execution_count": 44,
   "metadata": {},
   "outputs": [],
   "source": [
    "# Наборы данных с меткой \"train\" будут использоваться для обучения модели, \"test\" - для тестирования.\n",
    "# Для тестирования мы будем использовать 25% от исходного датасета.\n",
    "X_train, X_test, y_train, y_test = train_test_split(\n",
    "    X, y, test_size=0.25, random_state=RANDOM_SEED)"
   ]
  },
  {
   "cell_type": "code",
   "execution_count": 45,
   "metadata": {},
   "outputs": [],
   "source": [
    "# Импортируем необходимые библиотеки:\n",
    "# инструмент для создания и обучения модели\n",
    "from sklearn.ensemble import RandomForestRegressor\n",
    "from sklearn import metrics  # инструменты для оценки точности модели"
   ]
  },
  {
   "cell_type": "code",
   "execution_count": 46,
   "metadata": {},
   "outputs": [],
   "source": [
    "# Создаём модель\n",
    "regr = RandomForestRegressor(n_estimators=100, random_state=RANDOM_SEED)\n",
    "\n",
    "# Обучаем модель на тестовом наборе данных\n",
    "regr.fit(X_train, y_train)\n",
    "\n",
    "# Используем обученную модель для предсказания рейтинга ресторанов в тестовой выборке.\n",
    "# Предсказанные значения записываем в переменную y_pred\n",
    "y_pred = regr.predict(X_test)"
   ]
  },
  {
   "cell_type": "code",
   "execution_count": 47,
   "metadata": {},
   "outputs": [
    {
     "name": "stdout",
     "output_type": "stream",
     "text": [
      "MAE: 0.20983800000000002\n"
     ]
    }
   ],
   "source": [
    "# Сравниваем предсказанные значения (y_pred) с реальными (y_test), и смотрим насколько они в среднем отличаются\n",
    "# Метрика называется Mean Absolute Error (MAE) и показывает среднее отклонение предсказанных значений от фактических.\n",
    "print('MAE:', metrics.mean_absolute_error(y_test, y_pred))"
   ]
  },
  {
   "cell_type": "code",
   "execution_count": null,
   "metadata": {},
   "outputs": [],
   "source": []
  },
  {
   "cell_type": "code",
   "execution_count": null,
   "metadata": {},
   "outputs": [],
   "source": []
  },
  {
   "cell_type": "code",
   "execution_count": null,
   "metadata": {},
   "outputs": [],
   "source": []
  },
  {
   "cell_type": "code",
   "execution_count": null,
   "metadata": {},
   "outputs": [],
   "source": []
  }
 ],
 "metadata": {
  "kernelspec": {
   "display_name": "Python 3",
   "language": "python",
   "name": "python3"
  },
  "language_info": {
   "codemirror_mode": {
    "name": "ipython",
    "version": 3
   },
   "file_extension": ".py",
   "mimetype": "text/x-python",
   "name": "python",
   "nbconvert_exporter": "python",
   "pygments_lexer": "ipython3",
   "version": "3.8.3"
  }
 },
 "nbformat": 4,
 "nbformat_minor": 4
}
