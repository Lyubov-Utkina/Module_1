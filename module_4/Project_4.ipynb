{
 "cells": [
  {
   "cell_type": "code",
   "execution_count": 1,
   "metadata": {},
   "outputs": [],
   "source": [
    "import pandas as pd\n",
    "import matplotlib.pyplot as plt\n",
    "import seaborn as sns\n"
   ]
  },
  {
   "cell_type": "code",
   "execution_count": 2,
   "metadata": {},
   "outputs": [],
   "source": [
    "# Функция для построения боксплота для выбранных данных\n",
    "def get_boxplot(column, index, dataframe):\n",
    "    fig, ax = plt.subplots(figsize=(10, 4))\n",
    "    sns.boxplot(x=column, y=index,\n",
    "                data=dataframe,\n",
    "                ax=ax)\n",
    "    plt.xticks()\n",
    "    ax.set_title('Boxplot for ' + column)\n",
    "    plt.show()\n",
    "    print()"
   ]
  },
  {
   "cell_type": "code",
   "execution_count": null,
   "metadata": {},
   "outputs": [],
   "source": []
  },
  {
   "cell_type": "markdown",
   "metadata": {},
   "source": [
    "Посмотрим в целом, в какие города летели рейсы из Анапы зимой 2017 года."
   ]
  },
  {
   "cell_type": "code",
   "execution_count": 3,
   "metadata": {},
   "outputs": [],
   "source": [
    "general = pd.read_csv('First_query.csv')"
   ]
  },
  {
   "cell_type": "code",
   "execution_count": 4,
   "metadata": {
    "scrolled": true
   },
   "outputs": [
    {
     "data": {
      "text/html": [
       "<div>\n",
       "<style scoped>\n",
       "    .dataframe tbody tr th:only-of-type {\n",
       "        vertical-align: middle;\n",
       "    }\n",
       "\n",
       "    .dataframe tbody tr th {\n",
       "        vertical-align: top;\n",
       "    }\n",
       "\n",
       "    .dataframe thead th {\n",
       "        text-align: right;\n",
       "    }\n",
       "</style>\n",
       "<table border=\"1\" class=\"dataframe\">\n",
       "  <thead>\n",
       "    <tr style=\"text-align: right;\">\n",
       "      <th></th>\n",
       "      <th>departure_airport</th>\n",
       "      <th>arrival_airport</th>\n",
       "      <th>city</th>\n",
       "      <th>flights_number</th>\n",
       "      <th>model</th>\n",
       "      <th>aircraft_code</th>\n",
       "    </tr>\n",
       "  </thead>\n",
       "  <tbody>\n",
       "    <tr>\n",
       "      <th>0</th>\n",
       "      <td>AAQ</td>\n",
       "      <td>EGO</td>\n",
       "      <td>Belgorod</td>\n",
       "      <td>59</td>\n",
       "      <td>Sukhoi Superjet-100</td>\n",
       "      <td>SU9</td>\n",
       "    </tr>\n",
       "    <tr>\n",
       "      <th>1</th>\n",
       "      <td>AAQ</td>\n",
       "      <td>NOZ</td>\n",
       "      <td>Novokuznetsk</td>\n",
       "      <td>9</td>\n",
       "      <td>Boeing 737-300</td>\n",
       "      <td>733</td>\n",
       "    </tr>\n",
       "    <tr>\n",
       "      <th>2</th>\n",
       "      <td>AAQ</td>\n",
       "      <td>SVO</td>\n",
       "      <td>Moscow</td>\n",
       "      <td>59</td>\n",
       "      <td>Boeing 737-300</td>\n",
       "      <td>733</td>\n",
       "    </tr>\n",
       "  </tbody>\n",
       "</table>\n",
       "</div>"
      ],
      "text/plain": [
       "  departure_airport arrival_airport          city  flights_number  \\\n",
       "0               AAQ             EGO      Belgorod              59   \n",
       "1               AAQ             NOZ  Novokuznetsk               9   \n",
       "2               AAQ             SVO        Moscow              59   \n",
       "\n",
       "                 model aircraft_code  \n",
       "0  Sukhoi Superjet-100           SU9  \n",
       "1       Boeing 737-300           733  \n",
       "2       Boeing 737-300           733  "
      ]
     },
     "metadata": {},
     "output_type": "display_data"
    }
   ],
   "source": [
    "display(general) # Есть рейсы в Белгород, Новокузнецк и Москву"
   ]
  },
  {
   "cell_type": "markdown",
   "metadata": {},
   "source": [
    "Загрузим главный датасет "
   ]
  },
  {
   "cell_type": "code",
   "execution_count": 5,
   "metadata": {},
   "outputs": [],
   "source": [
    "flights = pd.read_csv('flights.csv')"
   ]
  },
  {
   "cell_type": "code",
   "execution_count": 6,
   "metadata": {
    "scrolled": true
   },
   "outputs": [
    {
     "data": {
      "text/html": [
       "<div>\n",
       "<style scoped>\n",
       "    .dataframe tbody tr th:only-of-type {\n",
       "        vertical-align: middle;\n",
       "    }\n",
       "\n",
       "    .dataframe tbody tr th {\n",
       "        vertical-align: top;\n",
       "    }\n",
       "\n",
       "    .dataframe thead th {\n",
       "        text-align: right;\n",
       "    }\n",
       "</style>\n",
       "<table border=\"1\" class=\"dataframe\">\n",
       "  <thead>\n",
       "    <tr style=\"text-align: right;\">\n",
       "      <th></th>\n",
       "      <th>flight_id</th>\n",
       "      <th>seats_number</th>\n",
       "      <th>total_amount</th>\n",
       "      <th>flight_no</th>\n",
       "      <th>departure</th>\n",
       "      <th>weekday</th>\n",
       "      <th>duration</th>\n",
       "      <th>departure_airport</th>\n",
       "      <th>arrival_airport</th>\n",
       "      <th>aircraft_code</th>\n",
       "    </tr>\n",
       "  </thead>\n",
       "  <tbody>\n",
       "    <tr>\n",
       "      <th>28</th>\n",
       "      <td>136282</td>\n",
       "      <td>106</td>\n",
       "      <td>1518800.0</td>\n",
       "      <td>PG0252</td>\n",
       "      <td>2017-01-16 13:05:00</td>\n",
       "      <td>Monday</td>\n",
       "      <td>100.0</td>\n",
       "      <td>AAQ</td>\n",
       "      <td>SVO</td>\n",
       "      <td>733</td>\n",
       "    </tr>\n",
       "    <tr>\n",
       "      <th>27</th>\n",
       "      <td>136275</td>\n",
       "      <td>125</td>\n",
       "      <td>1825000.0</td>\n",
       "      <td>PG0252</td>\n",
       "      <td>2017-01-13 13:05:00</td>\n",
       "      <td>Friday</td>\n",
       "      <td>100.0</td>\n",
       "      <td>AAQ</td>\n",
       "      <td>SVO</td>\n",
       "      <td>733</td>\n",
       "    </tr>\n",
       "    <tr>\n",
       "      <th>31</th>\n",
       "      <td>136310</td>\n",
       "      <td>117</td>\n",
       "      <td>1654200.0</td>\n",
       "      <td>PG0252</td>\n",
       "      <td>2017-01-22 13:05:00</td>\n",
       "      <td>Sunday</td>\n",
       "      <td>100.0</td>\n",
       "      <td>AAQ</td>\n",
       "      <td>SVO</td>\n",
       "      <td>733</td>\n",
       "    </tr>\n",
       "    <tr>\n",
       "      <th>104</th>\n",
       "      <td>136869</td>\n",
       "      <td>97</td>\n",
       "      <td>765300.0</td>\n",
       "      <td>PG0480</td>\n",
       "      <td>2017-01-31 12:25:00</td>\n",
       "      <td>Tuesday</td>\n",
       "      <td>50.0</td>\n",
       "      <td>AAQ</td>\n",
       "      <td>EGO</td>\n",
       "      <td>SU9</td>\n",
       "    </tr>\n",
       "    <tr>\n",
       "      <th>102</th>\n",
       "      <td>136857</td>\n",
       "      <td>97</td>\n",
       "      <td>765300.0</td>\n",
       "      <td>PG0480</td>\n",
       "      <td>2017-02-13 12:25:00</td>\n",
       "      <td>Monday</td>\n",
       "      <td>50.0</td>\n",
       "      <td>AAQ</td>\n",
       "      <td>EGO</td>\n",
       "      <td>SU9</td>\n",
       "    </tr>\n",
       "  </tbody>\n",
       "</table>\n",
       "</div>"
      ],
      "text/plain": [
       "     flight_id  seats_number  total_amount flight_no            departure  \\\n",
       "28      136282           106     1518800.0    PG0252  2017-01-16 13:05:00   \n",
       "27      136275           125     1825000.0    PG0252  2017-01-13 13:05:00   \n",
       "31      136310           117     1654200.0    PG0252  2017-01-22 13:05:00   \n",
       "104     136869            97      765300.0    PG0480  2017-01-31 12:25:00   \n",
       "102     136857            97      765300.0    PG0480  2017-02-13 12:25:00   \n",
       "\n",
       "       weekday  duration departure_airport arrival_airport aircraft_code  \n",
       "28   Monday        100.0               AAQ             SVO           733  \n",
       "27   Friday        100.0               AAQ             SVO           733  \n",
       "31   Sunday        100.0               AAQ             SVO           733  \n",
       "104  Tuesday        50.0               AAQ             EGO           SU9  \n",
       "102  Monday         50.0               AAQ             EGO           SU9  "
      ]
     },
     "metadata": {},
     "output_type": "display_data"
    },
    {
     "name": "stdout",
     "output_type": "stream",
     "text": [
      "<class 'pandas.core.frame.DataFrame'>\n",
      "RangeIndex: 118 entries, 0 to 117\n",
      "Data columns (total 10 columns):\n",
      " #   Column             Non-Null Count  Dtype  \n",
      "---  ------             --------------  -----  \n",
      " 0   flight_id          118 non-null    int64  \n",
      " 1   seats_number       118 non-null    int64  \n",
      " 2   total_amount       118 non-null    float64\n",
      " 3   flight_no          118 non-null    object \n",
      " 4   departure          118 non-null    object \n",
      " 5   weekday            118 non-null    object \n",
      " 6   duration           118 non-null    float64\n",
      " 7   departure_airport  118 non-null    object \n",
      " 8   arrival_airport    118 non-null    object \n",
      " 9   aircraft_code      118 non-null    object \n",
      "dtypes: float64(2), int64(2), object(6)\n",
      "memory usage: 9.3+ KB\n"
     ]
    }
   ],
   "source": [
    "display(flights.sample(5))\n",
    "flights.info()"
   ]
  },
  {
   "cell_type": "markdown",
   "metadata": {},
   "source": [
    "Описание датасета:\n",
    "\n",
    " 0   flight_id          - Уникальный ID рейса  \n",
    " \n",
    " 1   seats_number       - Количество занятых мест на этом рейсе  \n",
    " \n",
    " 2   total_amount       - Общая стоимость билетов на рейс\n",
    " \n",
    " 3   flight_no          - Номер рейса\n",
    " \n",
    " 4   departure          - Дата и время отправления \n",
    " \n",
    " 5   weekday            - День недели, когда выполнялся рейс\n",
    " \n",
    " 6   duration           - Продожительность полета, минуты\n",
    " \n",
    " 7   departure_airport  - Аэропорт отправления (Анапа)\n",
    " \n",
    " 8   arrival_airport    - Аэропорт прибытия\n",
    " \n",
    " 9   aircraft_code      - Код модели самолета\n",
    " "
   ]
  },
  {
   "cell_type": "code",
   "execution_count": 7,
   "metadata": {
    "scrolled": true
   },
   "outputs": [
    {
     "data": {
      "text/html": [
       "<div>\n",
       "<style scoped>\n",
       "    .dataframe tbody tr th:only-of-type {\n",
       "        vertical-align: middle;\n",
       "    }\n",
       "\n",
       "    .dataframe tbody tr th {\n",
       "        vertical-align: top;\n",
       "    }\n",
       "\n",
       "    .dataframe thead th {\n",
       "        text-align: right;\n",
       "    }\n",
       "</style>\n",
       "<table border=\"1\" class=\"dataframe\">\n",
       "  <thead>\n",
       "    <tr style=\"text-align: right;\">\n",
       "      <th></th>\n",
       "      <th>flight_id</th>\n",
       "      <th>seats_number</th>\n",
       "      <th>total_amount</th>\n",
       "      <th>duration</th>\n",
       "    </tr>\n",
       "  </thead>\n",
       "  <tbody>\n",
       "    <tr>\n",
       "      <th>count</th>\n",
       "      <td>118.000000</td>\n",
       "      <td>118.000000</td>\n",
       "      <td>1.180000e+02</td>\n",
       "      <td>118.00000</td>\n",
       "    </tr>\n",
       "    <tr>\n",
       "      <th>mean</th>\n",
       "      <td>136533.440678</td>\n",
       "      <td>101.652542</td>\n",
       "      <td>1.176506e+06</td>\n",
       "      <td>75.00000</td>\n",
       "    </tr>\n",
       "    <tr>\n",
       "      <th>std</th>\n",
       "      <td>261.971994</td>\n",
       "      <td>14.295643</td>\n",
       "      <td>4.794251e+05</td>\n",
       "      <td>25.10661</td>\n",
       "    </tr>\n",
       "    <tr>\n",
       "      <th>min</th>\n",
       "      <td>136119.000000</td>\n",
       "      <td>64.000000</td>\n",
       "      <td>5.310000e+05</td>\n",
       "      <td>50.00000</td>\n",
       "    </tr>\n",
       "    <tr>\n",
       "      <th>25%</th>\n",
       "      <td>136286.250000</td>\n",
       "      <td>95.000000</td>\n",
       "      <td>7.464000e+05</td>\n",
       "      <td>50.00000</td>\n",
       "    </tr>\n",
       "    <tr>\n",
       "      <th>50%</th>\n",
       "      <td>136528.500000</td>\n",
       "      <td>97.000000</td>\n",
       "      <td>1.081650e+06</td>\n",
       "      <td>75.00000</td>\n",
       "    </tr>\n",
       "    <tr>\n",
       "      <th>75%</th>\n",
       "      <td>136768.500000</td>\n",
       "      <td>111.750000</td>\n",
       "      <td>1.625850e+06</td>\n",
       "      <td>100.00000</td>\n",
       "    </tr>\n",
       "    <tr>\n",
       "      <th>max</th>\n",
       "      <td>136956.000000</td>\n",
       "      <td>130.000000</td>\n",
       "      <td>1.886000e+06</td>\n",
       "      <td>100.00000</td>\n",
       "    </tr>\n",
       "  </tbody>\n",
       "</table>\n",
       "</div>"
      ],
      "text/plain": [
       "           flight_id  seats_number  total_amount   duration\n",
       "count     118.000000    118.000000  1.180000e+02  118.00000\n",
       "mean   136533.440678    101.652542  1.176506e+06   75.00000\n",
       "std       261.971994     14.295643  4.794251e+05   25.10661\n",
       "min    136119.000000     64.000000  5.310000e+05   50.00000\n",
       "25%    136286.250000     95.000000  7.464000e+05   50.00000\n",
       "50%    136528.500000     97.000000  1.081650e+06   75.00000\n",
       "75%    136768.500000    111.750000  1.625850e+06  100.00000\n",
       "max    136956.000000    130.000000  1.886000e+06  100.00000"
      ]
     },
     "execution_count": 7,
     "metadata": {},
     "output_type": "execute_result"
    }
   ],
   "source": [
    "flights.describe()"
   ]
  },
  {
   "cell_type": "code",
   "execution_count": 8,
   "metadata": {},
   "outputs": [
    {
     "data": {
      "text/html": [
       "<div>\n",
       "<style scoped>\n",
       "    .dataframe tbody tr th:only-of-type {\n",
       "        vertical-align: middle;\n",
       "    }\n",
       "\n",
       "    .dataframe tbody tr th {\n",
       "        vertical-align: top;\n",
       "    }\n",
       "\n",
       "    .dataframe thead th {\n",
       "        text-align: right;\n",
       "    }\n",
       "</style>\n",
       "<table border=\"1\" class=\"dataframe\">\n",
       "  <thead>\n",
       "    <tr style=\"text-align: right;\">\n",
       "      <th></th>\n",
       "      <th>flight_no</th>\n",
       "      <th>departure</th>\n",
       "      <th>weekday</th>\n",
       "      <th>departure_airport</th>\n",
       "      <th>arrival_airport</th>\n",
       "      <th>aircraft_code</th>\n",
       "    </tr>\n",
       "  </thead>\n",
       "  <tbody>\n",
       "    <tr>\n",
       "      <th>count</th>\n",
       "      <td>118</td>\n",
       "      <td>118</td>\n",
       "      <td>118</td>\n",
       "      <td>118</td>\n",
       "      <td>118</td>\n",
       "      <td>118</td>\n",
       "    </tr>\n",
       "    <tr>\n",
       "      <th>unique</th>\n",
       "      <td>2</td>\n",
       "      <td>118</td>\n",
       "      <td>7</td>\n",
       "      <td>1</td>\n",
       "      <td>2</td>\n",
       "      <td>2</td>\n",
       "    </tr>\n",
       "    <tr>\n",
       "      <th>top</th>\n",
       "      <td>PG0252</td>\n",
       "      <td>2017-02-03 12:25:00</td>\n",
       "      <td>Tuesday</td>\n",
       "      <td>AAQ</td>\n",
       "      <td>SVO</td>\n",
       "      <td>SU9</td>\n",
       "    </tr>\n",
       "    <tr>\n",
       "      <th>freq</th>\n",
       "      <td>59</td>\n",
       "      <td>1</td>\n",
       "      <td>18</td>\n",
       "      <td>118</td>\n",
       "      <td>59</td>\n",
       "      <td>59</td>\n",
       "    </tr>\n",
       "  </tbody>\n",
       "</table>\n",
       "</div>"
      ],
      "text/plain": [
       "       flight_no            departure    weekday departure_airport  \\\n",
       "count        118                  118        118               118   \n",
       "unique         2                  118          7                 1   \n",
       "top       PG0252  2017-02-03 12:25:00  Tuesday                 AAQ   \n",
       "freq          59                    1         18               118   \n",
       "\n",
       "       arrival_airport aircraft_code  \n",
       "count              118           118  \n",
       "unique               2             2  \n",
       "top                SVO           SU9  \n",
       "freq                59            59  "
      ]
     },
     "execution_count": 8,
     "metadata": {},
     "output_type": "execute_result"
    }
   ],
   "source": [
    "flights.describe(include=['object'])"
   ]
  },
  {
   "cell_type": "code",
   "execution_count": 9,
   "metadata": {},
   "outputs": [
    {
     "data": {
      "text/plain": [
       "array(['SVO', 'EGO'], dtype=object)"
      ]
     },
     "execution_count": 9,
     "metadata": {},
     "output_type": "execute_result"
    }
   ],
   "source": [
    "# Видим, что осталось два аэропорта прибытия. Проверим, какого аэропорта нет.\n",
    "flights.arrival_airport.unique()"
   ]
  },
  {
   "cell_type": "markdown",
   "metadata": {},
   "source": [
    "Как видим, для Новокузнецка нет данных о проданных билетах. \n",
    "Необходимо выяснить, с чем это связано, и провести анализ этих рейсов дополнительно."
   ]
  },
  {
   "cell_type": "markdown",
   "metadata": {},
   "source": [
    "Рассмотрим отдельно рейсы в Белгород и Москву"
   ]
  },
  {
   "cell_type": "markdown",
   "metadata": {},
   "source": [
    "# Белгород"
   ]
  },
  {
   "cell_type": "code",
   "execution_count": 10,
   "metadata": {},
   "outputs": [],
   "source": [
    "EGO = flights[flights.arrival_airport == 'EGO']"
   ]
  },
  {
   "cell_type": "markdown",
   "metadata": {},
   "source": [
    "## Затраты на топливо на рейс Анапа-Белгород\n",
    "Расход топлива Sukhoi Superjet-100, который используется на рейсах Анапа-Белгород - 1700 кг/ч.\n",
    "Стоимость топлива в зависимости от аэропорта варьирует в среднем от 35000 до 65000 руб/т.\n",
    "Для первоначальной оценки примем стоимость топлива равной 50000 руб/т.\n",
    "На 50 минут полета Анапа-Белгород необходимо 1417 кг топлива, его стоимость 70850 рублей."
   ]
  },
  {
   "cell_type": "code",
   "execution_count": 11,
   "metadata": {},
   "outputs": [
    {
     "name": "stderr",
     "output_type": "stream",
     "text": [
      "<ipython-input-11-7d9aefae60e5>:2: SettingWithCopyWarning: \n",
      "A value is trying to be set on a copy of a slice from a DataFrame.\n",
      "Try using .loc[row_indexer,col_indexer] = value instead\n",
      "\n",
      "See the caveats in the documentation: https://pandas.pydata.org/pandas-docs/stable/user_guide/indexing.html#returning-a-view-versus-a-copy\n",
      "  EGO['profit'] = EGO['total_amount'].apply(lambda x: x - 70850)\n"
     ]
    }
   ],
   "source": [
    "# Добавим столбик с прибылью (общий доход - расходы на топливо)\n",
    "EGO['profit'] = EGO['total_amount'].apply(lambda x: x - 70850)"
   ]
  },
  {
   "cell_type": "code",
   "execution_count": 12,
   "metadata": {},
   "outputs": [
    {
     "data": {
      "text/html": [
       "<div>\n",
       "<style scoped>\n",
       "    .dataframe tbody tr th:only-of-type {\n",
       "        vertical-align: middle;\n",
       "    }\n",
       "\n",
       "    .dataframe tbody tr th {\n",
       "        vertical-align: top;\n",
       "    }\n",
       "\n",
       "    .dataframe thead th {\n",
       "        text-align: right;\n",
       "    }\n",
       "</style>\n",
       "<table border=\"1\" class=\"dataframe\">\n",
       "  <thead>\n",
       "    <tr style=\"text-align: right;\">\n",
       "      <th></th>\n",
       "      <th>flight_id</th>\n",
       "      <th>seats_number</th>\n",
       "      <th>total_amount</th>\n",
       "      <th>flight_no</th>\n",
       "      <th>departure</th>\n",
       "      <th>weekday</th>\n",
       "      <th>duration</th>\n",
       "      <th>departure_airport</th>\n",
       "      <th>arrival_airport</th>\n",
       "      <th>aircraft_code</th>\n",
       "      <th>profit</th>\n",
       "    </tr>\n",
       "  </thead>\n",
       "  <tbody>\n",
       "    <tr>\n",
       "      <th>117</th>\n",
       "      <td>136956</td>\n",
       "      <td>96</td>\n",
       "      <td>746400.0</td>\n",
       "      <td>PG0480</td>\n",
       "      <td>2017-02-04 12:25:00</td>\n",
       "      <td>Saturday</td>\n",
       "      <td>50.0</td>\n",
       "      <td>AAQ</td>\n",
       "      <td>EGO</td>\n",
       "      <td>SU9</td>\n",
       "      <td>675550.0</td>\n",
       "    </tr>\n",
       "    <tr>\n",
       "      <th>73</th>\n",
       "      <td>136661</td>\n",
       "      <td>96</td>\n",
       "      <td>759000.0</td>\n",
       "      <td>PG0480</td>\n",
       "      <td>2017-01-01 12:25:00</td>\n",
       "      <td>Sunday</td>\n",
       "      <td>50.0</td>\n",
       "      <td>AAQ</td>\n",
       "      <td>EGO</td>\n",
       "      <td>SU9</td>\n",
       "      <td>688150.0</td>\n",
       "    </tr>\n",
       "    <tr>\n",
       "      <th>74</th>\n",
       "      <td>136666</td>\n",
       "      <td>87</td>\n",
       "      <td>664500.0</td>\n",
       "      <td>PG0480</td>\n",
       "      <td>2017-02-09 12:25:00</td>\n",
       "      <td>Thursday</td>\n",
       "      <td>50.0</td>\n",
       "      <td>AAQ</td>\n",
       "      <td>EGO</td>\n",
       "      <td>SU9</td>\n",
       "      <td>593650.0</td>\n",
       "    </tr>\n",
       "    <tr>\n",
       "      <th>96</th>\n",
       "      <td>136823</td>\n",
       "      <td>78</td>\n",
       "      <td>620400.0</td>\n",
       "      <td>PG0480</td>\n",
       "      <td>2017-02-05 12:25:00</td>\n",
       "      <td>Sunday</td>\n",
       "      <td>50.0</td>\n",
       "      <td>AAQ</td>\n",
       "      <td>EGO</td>\n",
       "      <td>SU9</td>\n",
       "      <td>549550.0</td>\n",
       "    </tr>\n",
       "    <tr>\n",
       "      <th>62</th>\n",
       "      <td>136605</td>\n",
       "      <td>97</td>\n",
       "      <td>765300.0</td>\n",
       "      <td>PG0480</td>\n",
       "      <td>2017-02-15 12:25:00</td>\n",
       "      <td>Wednesday</td>\n",
       "      <td>50.0</td>\n",
       "      <td>AAQ</td>\n",
       "      <td>EGO</td>\n",
       "      <td>SU9</td>\n",
       "      <td>694450.0</td>\n",
       "    </tr>\n",
       "    <tr>\n",
       "      <th>68</th>\n",
       "      <td>136642</td>\n",
       "      <td>64</td>\n",
       "      <td>531000.0</td>\n",
       "      <td>PG0480</td>\n",
       "      <td>2017-01-30 12:25:00</td>\n",
       "      <td>Monday</td>\n",
       "      <td>50.0</td>\n",
       "      <td>AAQ</td>\n",
       "      <td>EGO</td>\n",
       "      <td>SU9</td>\n",
       "      <td>460150.0</td>\n",
       "    </tr>\n",
       "    <tr>\n",
       "      <th>72</th>\n",
       "      <td>136660</td>\n",
       "      <td>87</td>\n",
       "      <td>677100.0</td>\n",
       "      <td>PG0480</td>\n",
       "      <td>2017-02-20 12:25:00</td>\n",
       "      <td>Monday</td>\n",
       "      <td>50.0</td>\n",
       "      <td>AAQ</td>\n",
       "      <td>EGO</td>\n",
       "      <td>SU9</td>\n",
       "      <td>606250.0</td>\n",
       "    </tr>\n",
       "    <tr>\n",
       "      <th>79</th>\n",
       "      <td>136709</td>\n",
       "      <td>87</td>\n",
       "      <td>689700.0</td>\n",
       "      <td>PG0480</td>\n",
       "      <td>2017-01-15 12:25:00</td>\n",
       "      <td>Sunday</td>\n",
       "      <td>50.0</td>\n",
       "      <td>AAQ</td>\n",
       "      <td>EGO</td>\n",
       "      <td>SU9</td>\n",
       "      <td>618850.0</td>\n",
       "    </tr>\n",
       "    <tr>\n",
       "      <th>99</th>\n",
       "      <td>136841</td>\n",
       "      <td>97</td>\n",
       "      <td>765300.0</td>\n",
       "      <td>PG0480</td>\n",
       "      <td>2017-02-07 12:25:00</td>\n",
       "      <td>Tuesday</td>\n",
       "      <td>50.0</td>\n",
       "      <td>AAQ</td>\n",
       "      <td>EGO</td>\n",
       "      <td>SU9</td>\n",
       "      <td>694450.0</td>\n",
       "    </tr>\n",
       "    <tr>\n",
       "      <th>64</th>\n",
       "      <td>136612</td>\n",
       "      <td>94</td>\n",
       "      <td>746400.0</td>\n",
       "      <td>PG0480</td>\n",
       "      <td>2017-02-21 12:25:00</td>\n",
       "      <td>Tuesday</td>\n",
       "      <td>50.0</td>\n",
       "      <td>AAQ</td>\n",
       "      <td>EGO</td>\n",
       "      <td>SU9</td>\n",
       "      <td>675550.0</td>\n",
       "    </tr>\n",
       "  </tbody>\n",
       "</table>\n",
       "</div>"
      ],
      "text/plain": [
       "     flight_id  seats_number  total_amount flight_no            departure  \\\n",
       "117     136956            96      746400.0    PG0480  2017-02-04 12:25:00   \n",
       "73      136661            96      759000.0    PG0480  2017-01-01 12:25:00   \n",
       "74      136666            87      664500.0    PG0480  2017-02-09 12:25:00   \n",
       "96      136823            78      620400.0    PG0480  2017-02-05 12:25:00   \n",
       "62      136605            97      765300.0    PG0480  2017-02-15 12:25:00   \n",
       "68      136642            64      531000.0    PG0480  2017-01-30 12:25:00   \n",
       "72      136660            87      677100.0    PG0480  2017-02-20 12:25:00   \n",
       "79      136709            87      689700.0    PG0480  2017-01-15 12:25:00   \n",
       "99      136841            97      765300.0    PG0480  2017-02-07 12:25:00   \n",
       "64      136612            94      746400.0    PG0480  2017-02-21 12:25:00   \n",
       "\n",
       "       weekday  duration departure_airport arrival_airport aircraft_code  \\\n",
       "117  Saturday       50.0               AAQ             EGO           SU9   \n",
       "73   Sunday         50.0               AAQ             EGO           SU9   \n",
       "74   Thursday       50.0               AAQ             EGO           SU9   \n",
       "96   Sunday         50.0               AAQ             EGO           SU9   \n",
       "62   Wednesday      50.0               AAQ             EGO           SU9   \n",
       "68   Monday         50.0               AAQ             EGO           SU9   \n",
       "72   Monday         50.0               AAQ             EGO           SU9   \n",
       "79   Sunday         50.0               AAQ             EGO           SU9   \n",
       "99   Tuesday        50.0               AAQ             EGO           SU9   \n",
       "64   Tuesday        50.0               AAQ             EGO           SU9   \n",
       "\n",
       "       profit  \n",
       "117  675550.0  \n",
       "73   688150.0  \n",
       "74   593650.0  \n",
       "96   549550.0  \n",
       "62   694450.0  \n",
       "68   460150.0  \n",
       "72   606250.0  \n",
       "79   618850.0  \n",
       "99   694450.0  \n",
       "64   675550.0  "
      ]
     },
     "metadata": {},
     "output_type": "display_data"
    }
   ],
   "source": [
    "display(EGO.sample(10))"
   ]
  },
  {
   "cell_type": "code",
   "execution_count": 13,
   "metadata": {},
   "outputs": [
    {
     "name": "stdout",
     "output_type": "stream",
     "text": [
      "<class 'pandas.core.frame.DataFrame'>\n",
      "Int64Index: 59 entries, 59 to 117\n",
      "Data columns (total 11 columns):\n",
      " #   Column             Non-Null Count  Dtype  \n",
      "---  ------             --------------  -----  \n",
      " 0   flight_id          59 non-null     int64  \n",
      " 1   seats_number       59 non-null     int64  \n",
      " 2   total_amount       59 non-null     float64\n",
      " 3   flight_no          59 non-null     object \n",
      " 4   departure          59 non-null     object \n",
      " 5   weekday            59 non-null     object \n",
      " 6   duration           59 non-null     float64\n",
      " 7   departure_airport  59 non-null     object \n",
      " 8   arrival_airport    59 non-null     object \n",
      " 9   aircraft_code      59 non-null     object \n",
      " 10  profit             59 non-null     float64\n",
      "dtypes: float64(3), int64(2), object(6)\n",
      "memory usage: 5.5+ KB\n"
     ]
    }
   ],
   "source": [
    "EGO.info()"
   ]
  },
  {
   "cell_type": "code",
   "execution_count": 14,
   "metadata": {
    "scrolled": true
   },
   "outputs": [
    {
     "data": {
      "text/html": [
       "<div>\n",
       "<style scoped>\n",
       "    .dataframe tbody tr th:only-of-type {\n",
       "        vertical-align: middle;\n",
       "    }\n",
       "\n",
       "    .dataframe tbody tr th {\n",
       "        vertical-align: top;\n",
       "    }\n",
       "\n",
       "    .dataframe thead th {\n",
       "        text-align: right;\n",
       "    }\n",
       "</style>\n",
       "<table border=\"1\" class=\"dataframe\">\n",
       "  <thead>\n",
       "    <tr style=\"text-align: right;\">\n",
       "      <th></th>\n",
       "      <th>flight_id</th>\n",
       "      <th>seats_number</th>\n",
       "      <th>total_amount</th>\n",
       "      <th>duration</th>\n",
       "      <th>profit</th>\n",
       "    </tr>\n",
       "  </thead>\n",
       "  <tbody>\n",
       "    <tr>\n",
       "      <th>count</th>\n",
       "      <td>59.000000</td>\n",
       "      <td>59.000000</td>\n",
       "      <td>59.000000</td>\n",
       "      <td>59.0</td>\n",
       "      <td>59.000000</td>\n",
       "    </tr>\n",
       "    <tr>\n",
       "      <th>mean</th>\n",
       "      <td>136768.220339</td>\n",
       "      <td>90.186441</td>\n",
       "      <td>710435.593220</td>\n",
       "      <td>50.0</td>\n",
       "      <td>639585.593220</td>\n",
       "    </tr>\n",
       "    <tr>\n",
       "      <th>std</th>\n",
       "      <td>112.072801</td>\n",
       "      <td>8.101670</td>\n",
       "      <td>65835.266628</td>\n",
       "      <td>0.0</td>\n",
       "      <td>65835.266628</td>\n",
       "    </tr>\n",
       "    <tr>\n",
       "      <th>min</th>\n",
       "      <td>136571.000000</td>\n",
       "      <td>64.000000</td>\n",
       "      <td>531000.000000</td>\n",
       "      <td>50.0</td>\n",
       "      <td>460150.000000</td>\n",
       "    </tr>\n",
       "    <tr>\n",
       "      <th>25%</th>\n",
       "      <td>136663.500000</td>\n",
       "      <td>86.500000</td>\n",
       "      <td>667350.000000</td>\n",
       "      <td>50.0</td>\n",
       "      <td>596500.000000</td>\n",
       "    </tr>\n",
       "    <tr>\n",
       "      <th>50%</th>\n",
       "      <td>136769.000000</td>\n",
       "      <td>95.000000</td>\n",
       "      <td>746400.000000</td>\n",
       "      <td>50.0</td>\n",
       "      <td>675550.000000</td>\n",
       "    </tr>\n",
       "    <tr>\n",
       "      <th>75%</th>\n",
       "      <td>136859.000000</td>\n",
       "      <td>97.000000</td>\n",
       "      <td>765300.000000</td>\n",
       "      <td>50.0</td>\n",
       "      <td>694450.000000</td>\n",
       "    </tr>\n",
       "    <tr>\n",
       "      <th>max</th>\n",
       "      <td>136956.000000</td>\n",
       "      <td>97.000000</td>\n",
       "      <td>765300.000000</td>\n",
       "      <td>50.0</td>\n",
       "      <td>694450.000000</td>\n",
       "    </tr>\n",
       "  </tbody>\n",
       "</table>\n",
       "</div>"
      ],
      "text/plain": [
       "           flight_id  seats_number   total_amount  duration         profit\n",
       "count      59.000000     59.000000      59.000000      59.0      59.000000\n",
       "mean   136768.220339     90.186441  710435.593220      50.0  639585.593220\n",
       "std       112.072801      8.101670   65835.266628       0.0   65835.266628\n",
       "min    136571.000000     64.000000  531000.000000      50.0  460150.000000\n",
       "25%    136663.500000     86.500000  667350.000000      50.0  596500.000000\n",
       "50%    136769.000000     95.000000  746400.000000      50.0  675550.000000\n",
       "75%    136859.000000     97.000000  765300.000000      50.0  694450.000000\n",
       "max    136956.000000     97.000000  765300.000000      50.0  694450.000000"
      ]
     },
     "execution_count": 14,
     "metadata": {},
     "output_type": "execute_result"
    }
   ],
   "source": [
    "EGO.describe()"
   ]
  },
  {
   "cell_type": "code",
   "execution_count": null,
   "metadata": {},
   "outputs": [],
   "source": []
  },
  {
   "cell_type": "markdown",
   "metadata": {},
   "source": [
    "Посмотрим загруженность рейсов, выручку и прибыль."
   ]
  },
  {
   "cell_type": "code",
   "execution_count": 15,
   "metadata": {
    "scrolled": true
   },
   "outputs": [
    {
     "data": {
      "text/plain": [
       "34"
      ]
     },
     "execution_count": 15,
     "metadata": {},
     "output_type": "execute_result"
    }
   ],
   "source": [
    "# Сколько рейсов по маршруту Анапа-Белгород имеют загруженность выше средней?\n",
    "len(EGO[EGO.seats_number >  EGO.seats_number.mean()]) # Больше половины"
   ]
  },
  {
   "cell_type": "code",
   "execution_count": 16,
   "metadata": {
    "scrolled": true
   },
   "outputs": [
    {
     "data": {
      "text/plain": [
       "<matplotlib.axes._subplots.AxesSubplot at 0x1baf5a7abe0>"
      ]
     },
     "execution_count": 16,
     "metadata": {},
     "output_type": "execute_result"
    },
    {
     "data": {
      "image/png": "[encoded data removed]",
      "text/plain": [
       "<Figure size 432x288 with 1 Axes>"
      ]
     },
     "metadata": {
      "needs_background": "light"
     },
     "output_type": "display_data"
    }
   ],
   "source": [
    "# Посмотрим распределение количества занятых мест на гистограмме\n",
    "EGO.seats_number.plot(kind = 'hist', title = 'Количество занятых мест', bins = 10)"
   ]
  },
  {
   "cell_type": "code",
   "execution_count": 17,
   "metadata": {},
   "outputs": [
    {
     "data": {
      "image/png": "[encoded data removed]",
      "text/plain": [
       "<Figure size 720x288 with 1 Axes>"
      ]
     },
     "metadata": {
      "needs_background": "light"
     },
     "output_type": "display_data"
    },
    {
     "name": "stdout",
     "output_type": "stream",
     "text": [
      "\n"
     ]
    }
   ],
   "source": [
    "# Посмотрим загруженность рейсов в зависимости от дня недели\n",
    "get_boxplot('weekday', 'seats_number', EGO)"
   ]
  },
  {
   "cell_type": "markdown",
   "metadata": {},
   "source": [
    "Очень нестабильная загрузка в понедельник, стабильно высокая загрузка по средам."
   ]
  },
  {
   "cell_type": "code",
   "execution_count": 18,
   "metadata": {},
   "outputs": [
    {
     "data": {
      "text/html": [
       "<div>\n",
       "<style scoped>\n",
       "    .dataframe tbody tr th:only-of-type {\n",
       "        vertical-align: middle;\n",
       "    }\n",
       "\n",
       "    .dataframe tbody tr th {\n",
       "        vertical-align: top;\n",
       "    }\n",
       "\n",
       "    .dataframe thead th {\n",
       "        text-align: right;\n",
       "    }\n",
       "</style>\n",
       "<table border=\"1\" class=\"dataframe\">\n",
       "  <thead>\n",
       "    <tr style=\"text-align: right;\">\n",
       "      <th></th>\n",
       "      <th>flight_id</th>\n",
       "      <th>seats_number</th>\n",
       "      <th>total_amount</th>\n",
       "      <th>duration</th>\n",
       "      <th>profit</th>\n",
       "    </tr>\n",
       "    <tr>\n",
       "      <th>weekday</th>\n",
       "      <th></th>\n",
       "      <th></th>\n",
       "      <th></th>\n",
       "      <th></th>\n",
       "      <th></th>\n",
       "    </tr>\n",
       "  </thead>\n",
       "  <tbody>\n",
       "    <tr>\n",
       "      <th>Friday</th>\n",
       "      <td>136757.75</td>\n",
       "      <td>89.88</td>\n",
       "      <td>706162.50</td>\n",
       "      <td>50.0</td>\n",
       "      <td>635312.50</td>\n",
       "    </tr>\n",
       "    <tr>\n",
       "      <th>Monday</th>\n",
       "      <td>136801.00</td>\n",
       "      <td>87.78</td>\n",
       "      <td>694333.33</td>\n",
       "      <td>50.0</td>\n",
       "      <td>623483.33</td>\n",
       "    </tr>\n",
       "    <tr>\n",
       "      <th>Saturday</th>\n",
       "      <td>136772.62</td>\n",
       "      <td>91.00</td>\n",
       "      <td>717750.00</td>\n",
       "      <td>50.0</td>\n",
       "      <td>646900.00</td>\n",
       "    </tr>\n",
       "    <tr>\n",
       "      <th>Sunday</th>\n",
       "      <td>136770.67</td>\n",
       "      <td>89.67</td>\n",
       "      <td>707766.67</td>\n",
       "      <td>50.0</td>\n",
       "      <td>636916.67</td>\n",
       "    </tr>\n",
       "    <tr>\n",
       "      <th>Thursday</th>\n",
       "      <td>136759.50</td>\n",
       "      <td>89.00</td>\n",
       "      <td>698925.00</td>\n",
       "      <td>50.0</td>\n",
       "      <td>628075.00</td>\n",
       "    </tr>\n",
       "    <tr>\n",
       "      <th>Tuesday</th>\n",
       "      <td>136787.11</td>\n",
       "      <td>89.33</td>\n",
       "      <td>698466.67</td>\n",
       "      <td>50.0</td>\n",
       "      <td>627616.67</td>\n",
       "    </tr>\n",
       "    <tr>\n",
       "      <th>Wednesday</th>\n",
       "      <td>136722.12</td>\n",
       "      <td>95.12</td>\n",
       "      <td>753487.50</td>\n",
       "      <td>50.0</td>\n",
       "      <td>682637.50</td>\n",
       "    </tr>\n",
       "  </tbody>\n",
       "</table>\n",
       "</div>"
      ],
      "text/plain": [
       "           flight_id  seats_number  total_amount  duration     profit\n",
       "weekday                                                              \n",
       "Friday     136757.75         89.88     706162.50      50.0  635312.50\n",
       "Monday     136801.00         87.78     694333.33      50.0  623483.33\n",
       "Saturday   136772.62         91.00     717750.00      50.0  646900.00\n",
       "Sunday     136770.67         89.67     707766.67      50.0  636916.67\n",
       "Thursday   136759.50         89.00     698925.00      50.0  628075.00\n",
       "Tuesday    136787.11         89.33     698466.67      50.0  627616.67\n",
       "Wednesday  136722.12         95.12     753487.50      50.0  682637.50"
      ]
     },
     "execution_count": 18,
     "metadata": {},
     "output_type": "execute_result"
    }
   ],
   "source": [
    "# Сгруппируем данные по дням недели.\n",
    "grouped_EGO = round(EGO.groupby(['weekday']).mean(), 2)\n",
    "grouped_EGO"
   ]
  },
  {
   "cell_type": "code",
   "execution_count": null,
   "metadata": {},
   "outputs": [],
   "source": []
  },
  {
   "cell_type": "code",
   "execution_count": 19,
   "metadata": {},
   "outputs": [
    {
     "data": {
      "image/png": "[encoded data removed]",
      "text/plain": [
       "<Figure size 720x288 with 1 Axes>"
      ]
     },
     "metadata": {
      "needs_background": "light"
     },
     "output_type": "display_data"
    },
    {
     "name": "stdout",
     "output_type": "stream",
     "text": [
      "\n"
     ]
    }
   ],
   "source": [
    "# Посмотрим распределение выручки по дням недели.\n",
    "get_boxplot('weekday', 'profit', EGO)"
   ]
  },
  {
   "cell_type": "markdown",
   "metadata": {},
   "source": [
    "Убыточных рейсов нет.\n",
    "Для отдельных рейсов по понедельника и четвергам прибыль была меньше 500 тысяч рублей."
   ]
  },
  {
   "cell_type": "code",
   "execution_count": 20,
   "metadata": {
    "scrolled": true
   },
   "outputs": [
    {
     "data": {
      "text/html": [
       "<div>\n",
       "<style scoped>\n",
       "    .dataframe tbody tr th:only-of-type {\n",
       "        vertical-align: middle;\n",
       "    }\n",
       "\n",
       "    .dataframe tbody tr th {\n",
       "        vertical-align: top;\n",
       "    }\n",
       "\n",
       "    .dataframe thead th {\n",
       "        text-align: right;\n",
       "    }\n",
       "</style>\n",
       "<table border=\"1\" class=\"dataframe\">\n",
       "  <thead>\n",
       "    <tr style=\"text-align: right;\">\n",
       "      <th></th>\n",
       "      <th>flight_id</th>\n",
       "      <th>seats_number</th>\n",
       "      <th>total_amount</th>\n",
       "      <th>flight_no</th>\n",
       "      <th>departure</th>\n",
       "      <th>weekday</th>\n",
       "      <th>duration</th>\n",
       "      <th>departure_airport</th>\n",
       "      <th>arrival_airport</th>\n",
       "      <th>aircraft_code</th>\n",
       "      <th>profit</th>\n",
       "    </tr>\n",
       "  </thead>\n",
       "  <tbody>\n",
       "    <tr>\n",
       "      <th>93</th>\n",
       "      <td>136807</td>\n",
       "      <td>68</td>\n",
       "      <td>531000.0</td>\n",
       "      <td>PG0480</td>\n",
       "      <td>2017-02-23 12:25:00</td>\n",
       "      <td>Thursday</td>\n",
       "      <td>50.0</td>\n",
       "      <td>AAQ</td>\n",
       "      <td>EGO</td>\n",
       "      <td>SU9</td>\n",
       "      <td>460150.0</td>\n",
       "    </tr>\n",
       "    <tr>\n",
       "      <th>68</th>\n",
       "      <td>136642</td>\n",
       "      <td>64</td>\n",
       "      <td>531000.0</td>\n",
       "      <td>PG0480</td>\n",
       "      <td>2017-01-30 12:25:00</td>\n",
       "      <td>Monday</td>\n",
       "      <td>50.0</td>\n",
       "      <td>AAQ</td>\n",
       "      <td>EGO</td>\n",
       "      <td>SU9</td>\n",
       "      <td>460150.0</td>\n",
       "    </tr>\n",
       "    <tr>\n",
       "      <th>100</th>\n",
       "      <td>136844</td>\n",
       "      <td>79</td>\n",
       "      <td>575100.0</td>\n",
       "      <td>PG0480</td>\n",
       "      <td>2017-02-28 12:25:00</td>\n",
       "      <td>Tuesday</td>\n",
       "      <td>50.0</td>\n",
       "      <td>AAQ</td>\n",
       "      <td>EGO</td>\n",
       "      <td>SU9</td>\n",
       "      <td>504250.0</td>\n",
       "    </tr>\n",
       "    <tr>\n",
       "      <th>107</th>\n",
       "      <td>136887</td>\n",
       "      <td>78</td>\n",
       "      <td>595200.0</td>\n",
       "      <td>PG0480</td>\n",
       "      <td>2017-01-20 12:25:00</td>\n",
       "      <td>Friday</td>\n",
       "      <td>50.0</td>\n",
       "      <td>AAQ</td>\n",
       "      <td>EGO</td>\n",
       "      <td>SU9</td>\n",
       "      <td>524350.0</td>\n",
       "    </tr>\n",
       "    <tr>\n",
       "      <th>111</th>\n",
       "      <td>136922</td>\n",
       "      <td>76</td>\n",
       "      <td>607800.0</td>\n",
       "      <td>PG0480</td>\n",
       "      <td>2017-02-11 12:25:00</td>\n",
       "      <td>Saturday</td>\n",
       "      <td>50.0</td>\n",
       "      <td>AAQ</td>\n",
       "      <td>EGO</td>\n",
       "      <td>SU9</td>\n",
       "      <td>536950.0</td>\n",
       "    </tr>\n",
       "    <tr>\n",
       "      <th>65</th>\n",
       "      <td>136620</td>\n",
       "      <td>79</td>\n",
       "      <td>613500.0</td>\n",
       "      <td>PG0480</td>\n",
       "      <td>2017-02-17 12:25:00</td>\n",
       "      <td>Friday</td>\n",
       "      <td>50.0</td>\n",
       "      <td>AAQ</td>\n",
       "      <td>EGO</td>\n",
       "      <td>SU9</td>\n",
       "      <td>542650.0</td>\n",
       "    </tr>\n",
       "  </tbody>\n",
       "</table>\n",
       "</div>"
      ],
      "text/plain": [
       "     flight_id  seats_number  total_amount flight_no            departure  \\\n",
       "93      136807            68      531000.0    PG0480  2017-02-23 12:25:00   \n",
       "68      136642            64      531000.0    PG0480  2017-01-30 12:25:00   \n",
       "100     136844            79      575100.0    PG0480  2017-02-28 12:25:00   \n",
       "107     136887            78      595200.0    PG0480  2017-01-20 12:25:00   \n",
       "111     136922            76      607800.0    PG0480  2017-02-11 12:25:00   \n",
       "65      136620            79      613500.0    PG0480  2017-02-17 12:25:00   \n",
       "\n",
       "       weekday  duration departure_airport arrival_airport aircraft_code  \\\n",
       "93   Thursday       50.0               AAQ             EGO           SU9   \n",
       "68   Monday         50.0               AAQ             EGO           SU9   \n",
       "100  Tuesday        50.0               AAQ             EGO           SU9   \n",
       "107  Friday         50.0               AAQ             EGO           SU9   \n",
       "111  Saturday       50.0               AAQ             EGO           SU9   \n",
       "65   Friday         50.0               AAQ             EGO           SU9   \n",
       "\n",
       "       profit  \n",
       "93   460150.0  \n",
       "68   460150.0  \n",
       "100  504250.0  \n",
       "107  524350.0  \n",
       "111  536950.0  \n",
       "65   542650.0  "
      ]
     },
     "execution_count": 20,
     "metadata": {},
     "output_type": "execute_result"
    }
   ],
   "source": [
    "# Посмотрим на 10% рейсов с самой низкой прибылью.\n",
    "EGO.sort_values(by=['profit']).head(6)"
   ]
  },
  {
   "cell_type": "markdown",
   "metadata": {},
   "source": [
    "Гипотеза: Если занято менее 70 мест, выручка меньше 500000 рублей, меньше 80 мест - выручка меньше 550000 рублей"
   ]
  },
  {
   "cell_type": "code",
   "execution_count": null,
   "metadata": {},
   "outputs": [],
   "source": []
  },
  {
   "cell_type": "markdown",
   "metadata": {},
   "source": [
    "Гипотеза:\n",
    "Так как маловероятно, что загруженность рейсов, например, 23 февраля 2017 г. и 23 февраля 2021 г. будет одинакова, то нельзя убирать рейс в какой-то конкретный день, а нужно искать более общий критерий для решения об отмене рейса.\n",
    "\n",
    "Самый простой вариант - отменить рейсы в один из дней недели, например, по понедельникам, так как в этот день самая низкая средняя загрузка и прибыль.\n",
    "\n",
    "В качестве мозгового штурма можно предложить такую идею: Если есть возможность более динамично реагировать, то, проанализировав все затраты на перебронирование билетов пассажиров и возможные репутационные риски, можно предложить отменять рейсы, если забронировано, например, менее 70 мест, а пассажиров отправлять другими рейсами. "
   ]
  },
  {
   "cell_type": "markdown",
   "metadata": {},
   "source": [
    "# Москва"
   ]
  },
  {
   "cell_type": "code",
   "execution_count": 21,
   "metadata": {},
   "outputs": [],
   "source": [
    "SVO = flights[flights.arrival_airport == 'SVO']"
   ]
  },
  {
   "cell_type": "markdown",
   "metadata": {},
   "source": [
    "## Затраты на топливо на рейс Анапа-Москва\n",
    "Расход топлива Boeing 737-300, который летает на рейсах Анапа-Москва - 2600 кг/ч.\n",
    "Стоимость топлива в зависимости от аэропорта варьирует в среднем от 35000 до 65000 руб/т.\n",
    "Для первоначальной оценки примем стоимость топлива равной 50000 руб/т. \n",
    "На 100 минут полета Анапа-Москва необходимо 4333 кг топлива, его стоимость 216650 рублей."
   ]
  },
  {
   "cell_type": "code",
   "execution_count": 22,
   "metadata": {
    "scrolled": true
   },
   "outputs": [
    {
     "name": "stderr",
     "output_type": "stream",
     "text": [
      "<ipython-input-22-78281512e894>:2: SettingWithCopyWarning: \n",
      "A value is trying to be set on a copy of a slice from a DataFrame.\n",
      "Try using .loc[row_indexer,col_indexer] = value instead\n",
      "\n",
      "See the caveats in the documentation: https://pandas.pydata.org/pandas-docs/stable/user_guide/indexing.html#returning-a-view-versus-a-copy\n",
      "  SVO['profit'] = SVO['total_amount'].apply(lambda x: x - 216650)\n"
     ]
    }
   ],
   "source": [
    "# Добавим столбик с прибылью (общий доход - расходы на топливо)\n",
    "SVO['profit'] = SVO['total_amount'].apply(lambda x: x - 216650)"
   ]
  },
  {
   "cell_type": "code",
   "execution_count": 23,
   "metadata": {},
   "outputs": [
    {
     "data": {
      "text/html": [
       "<div>\n",
       "<style scoped>\n",
       "    .dataframe tbody tr th:only-of-type {\n",
       "        vertical-align: middle;\n",
       "    }\n",
       "\n",
       "    .dataframe tbody tr th {\n",
       "        vertical-align: top;\n",
       "    }\n",
       "\n",
       "    .dataframe thead th {\n",
       "        text-align: right;\n",
       "    }\n",
       "</style>\n",
       "<table border=\"1\" class=\"dataframe\">\n",
       "  <thead>\n",
       "    <tr style=\"text-align: right;\">\n",
       "      <th></th>\n",
       "      <th>flight_id</th>\n",
       "      <th>seats_number</th>\n",
       "      <th>total_amount</th>\n",
       "      <th>flight_no</th>\n",
       "      <th>departure</th>\n",
       "      <th>weekday</th>\n",
       "      <th>duration</th>\n",
       "      <th>departure_airport</th>\n",
       "      <th>arrival_airport</th>\n",
       "      <th>aircraft_code</th>\n",
       "      <th>profit</th>\n",
       "    </tr>\n",
       "  </thead>\n",
       "  <tbody>\n",
       "    <tr>\n",
       "      <th>7</th>\n",
       "      <td>136146</td>\n",
       "      <td>109</td>\n",
       "      <td>1604200.0</td>\n",
       "      <td>PG0252</td>\n",
       "      <td>2017-02-09 13:05:00</td>\n",
       "      <td>Thursday</td>\n",
       "      <td>100.0</td>\n",
       "      <td>AAQ</td>\n",
       "      <td>SVO</td>\n",
       "      <td>733</td>\n",
       "      <td>1387550.0</td>\n",
       "    </tr>\n",
       "    <tr>\n",
       "      <th>0</th>\n",
       "      <td>136119</td>\n",
       "      <td>113</td>\n",
       "      <td>1653000.0</td>\n",
       "      <td>PG0252</td>\n",
       "      <td>2017-01-03 13:05:00</td>\n",
       "      <td>Tuesday</td>\n",
       "      <td>100.0</td>\n",
       "      <td>AAQ</td>\n",
       "      <td>SVO</td>\n",
       "      <td>733</td>\n",
       "      <td>1436350.0</td>\n",
       "    </tr>\n",
       "    <tr>\n",
       "      <th>1</th>\n",
       "      <td>136120</td>\n",
       "      <td>109</td>\n",
       "      <td>1605400.0</td>\n",
       "      <td>PG0252</td>\n",
       "      <td>2017-02-24 13:05:00</td>\n",
       "      <td>Friday</td>\n",
       "      <td>100.0</td>\n",
       "      <td>AAQ</td>\n",
       "      <td>SVO</td>\n",
       "      <td>733</td>\n",
       "      <td>1388750.0</td>\n",
       "    </tr>\n",
       "    <tr>\n",
       "      <th>42</th>\n",
       "      <td>136389</td>\n",
       "      <td>129</td>\n",
       "      <td>1873800.0</td>\n",
       "      <td>PG0252</td>\n",
       "      <td>2017-01-18 13:05:00</td>\n",
       "      <td>Wednesday</td>\n",
       "      <td>100.0</td>\n",
       "      <td>AAQ</td>\n",
       "      <td>SVO</td>\n",
       "      <td>733</td>\n",
       "      <td>1657150.0</td>\n",
       "    </tr>\n",
       "    <tr>\n",
       "      <th>55</th>\n",
       "      <td>136471</td>\n",
       "      <td>120</td>\n",
       "      <td>1762800.0</td>\n",
       "      <td>PG0252</td>\n",
       "      <td>2017-01-17 13:05:00</td>\n",
       "      <td>Tuesday</td>\n",
       "      <td>100.0</td>\n",
       "      <td>AAQ</td>\n",
       "      <td>SVO</td>\n",
       "      <td>733</td>\n",
       "      <td>1546150.0</td>\n",
       "    </tr>\n",
       "  </tbody>\n",
       "</table>\n",
       "</div>"
      ],
      "text/plain": [
       "    flight_id  seats_number  total_amount flight_no            departure  \\\n",
       "7      136146           109     1604200.0    PG0252  2017-02-09 13:05:00   \n",
       "0      136119           113     1653000.0    PG0252  2017-01-03 13:05:00   \n",
       "1      136120           109     1605400.0    PG0252  2017-02-24 13:05:00   \n",
       "42     136389           129     1873800.0    PG0252  2017-01-18 13:05:00   \n",
       "55     136471           120     1762800.0    PG0252  2017-01-17 13:05:00   \n",
       "\n",
       "      weekday  duration departure_airport arrival_airport aircraft_code  \\\n",
       "7   Thursday      100.0               AAQ             SVO           733   \n",
       "0   Tuesday       100.0               AAQ             SVO           733   \n",
       "1   Friday        100.0               AAQ             SVO           733   \n",
       "42  Wednesday     100.0               AAQ             SVO           733   \n",
       "55  Tuesday       100.0               AAQ             SVO           733   \n",
       "\n",
       "       profit  \n",
       "7   1387550.0  \n",
       "0   1436350.0  \n",
       "1   1388750.0  \n",
       "42  1657150.0  \n",
       "55  1546150.0  "
      ]
     },
     "metadata": {},
     "output_type": "display_data"
    }
   ],
   "source": [
    "display(SVO.sample(5))"
   ]
  },
  {
   "cell_type": "code",
   "execution_count": 24,
   "metadata": {},
   "outputs": [
    {
     "name": "stdout",
     "output_type": "stream",
     "text": [
      "<class 'pandas.core.frame.DataFrame'>\n",
      "Int64Index: 59 entries, 0 to 58\n",
      "Data columns (total 11 columns):\n",
      " #   Column             Non-Null Count  Dtype  \n",
      "---  ------             --------------  -----  \n",
      " 0   flight_id          59 non-null     int64  \n",
      " 1   seats_number       59 non-null     int64  \n",
      " 2   total_amount       59 non-null     float64\n",
      " 3   flight_no          59 non-null     object \n",
      " 4   departure          59 non-null     object \n",
      " 5   weekday            59 non-null     object \n",
      " 6   duration           59 non-null     float64\n",
      " 7   departure_airport  59 non-null     object \n",
      " 8   arrival_airport    59 non-null     object \n",
      " 9   aircraft_code      59 non-null     object \n",
      " 10  profit             59 non-null     float64\n",
      "dtypes: float64(3), int64(2), object(6)\n",
      "memory usage: 5.5+ KB\n"
     ]
    }
   ],
   "source": [
    "SVO.info()"
   ]
  },
  {
   "cell_type": "code",
   "execution_count": 25,
   "metadata": {},
   "outputs": [
    {
     "data": {
      "text/html": [
       "<div>\n",
       "<style scoped>\n",
       "    .dataframe tbody tr th:only-of-type {\n",
       "        vertical-align: middle;\n",
       "    }\n",
       "\n",
       "    .dataframe tbody tr th {\n",
       "        vertical-align: top;\n",
       "    }\n",
       "\n",
       "    .dataframe thead th {\n",
       "        text-align: right;\n",
       "    }\n",
       "</style>\n",
       "<table border=\"1\" class=\"dataframe\">\n",
       "  <thead>\n",
       "    <tr style=\"text-align: right;\">\n",
       "      <th></th>\n",
       "      <th>flight_id</th>\n",
       "      <th>seats_number</th>\n",
       "      <th>total_amount</th>\n",
       "      <th>duration</th>\n",
       "      <th>profit</th>\n",
       "    </tr>\n",
       "  </thead>\n",
       "  <tbody>\n",
       "    <tr>\n",
       "      <th>count</th>\n",
       "      <td>59.000000</td>\n",
       "      <td>59.000000</td>\n",
       "      <td>5.900000e+01</td>\n",
       "      <td>59.0</td>\n",
       "      <td>5.900000e+01</td>\n",
       "    </tr>\n",
       "    <tr>\n",
       "      <th>mean</th>\n",
       "      <td>136298.661017</td>\n",
       "      <td>113.118644</td>\n",
       "      <td>1.642576e+06</td>\n",
       "      <td>100.0</td>\n",
       "      <td>1.425926e+06</td>\n",
       "    </tr>\n",
       "    <tr>\n",
       "      <th>std</th>\n",
       "      <td>117.208716</td>\n",
       "      <td>8.896115</td>\n",
       "      <td>1.318786e+05</td>\n",
       "      <td>0.0</td>\n",
       "      <td>1.318786e+05</td>\n",
       "    </tr>\n",
       "    <tr>\n",
       "      <th>min</th>\n",
       "      <td>136119.000000</td>\n",
       "      <td>97.000000</td>\n",
       "      <td>1.398000e+06</td>\n",
       "      <td>100.0</td>\n",
       "      <td>1.181350e+06</td>\n",
       "    </tr>\n",
       "    <tr>\n",
       "      <th>25%</th>\n",
       "      <td>136193.500000</td>\n",
       "      <td>107.000000</td>\n",
       "      <td>1.543200e+06</td>\n",
       "      <td>100.0</td>\n",
       "      <td>1.326550e+06</td>\n",
       "    </tr>\n",
       "    <tr>\n",
       "      <th>50%</th>\n",
       "      <td>136284.000000</td>\n",
       "      <td>112.000000</td>\n",
       "      <td>1.628600e+06</td>\n",
       "      <td>100.0</td>\n",
       "      <td>1.411950e+06</td>\n",
       "    </tr>\n",
       "    <tr>\n",
       "      <th>75%</th>\n",
       "      <td>136407.000000</td>\n",
       "      <td>120.000000</td>\n",
       "      <td>1.738400e+06</td>\n",
       "      <td>100.0</td>\n",
       "      <td>1.521750e+06</td>\n",
       "    </tr>\n",
       "    <tr>\n",
       "      <th>max</th>\n",
       "      <td>136486.000000</td>\n",
       "      <td>130.000000</td>\n",
       "      <td>1.886000e+06</td>\n",
       "      <td>100.0</td>\n",
       "      <td>1.669350e+06</td>\n",
       "    </tr>\n",
       "  </tbody>\n",
       "</table>\n",
       "</div>"
      ],
      "text/plain": [
       "           flight_id  seats_number  total_amount  duration        profit\n",
       "count      59.000000     59.000000  5.900000e+01      59.0  5.900000e+01\n",
       "mean   136298.661017    113.118644  1.642576e+06     100.0  1.425926e+06\n",
       "std       117.208716      8.896115  1.318786e+05       0.0  1.318786e+05\n",
       "min    136119.000000     97.000000  1.398000e+06     100.0  1.181350e+06\n",
       "25%    136193.500000    107.000000  1.543200e+06     100.0  1.326550e+06\n",
       "50%    136284.000000    112.000000  1.628600e+06     100.0  1.411950e+06\n",
       "75%    136407.000000    120.000000  1.738400e+06     100.0  1.521750e+06\n",
       "max    136486.000000    130.000000  1.886000e+06     100.0  1.669350e+06"
      ]
     },
     "execution_count": 25,
     "metadata": {},
     "output_type": "execute_result"
    }
   ],
   "source": [
    "SVO.describe()"
   ]
  },
  {
   "cell_type": "code",
   "execution_count": null,
   "metadata": {},
   "outputs": [],
   "source": []
  },
  {
   "cell_type": "markdown",
   "metadata": {},
   "source": [
    "Посмотрим загруженность рейсов, выручку и прибыль."
   ]
  },
  {
   "cell_type": "code",
   "execution_count": 26,
   "metadata": {},
   "outputs": [
    {
     "data": {
      "text/plain": [
       "28"
      ]
     },
     "execution_count": 26,
     "metadata": {},
     "output_type": "execute_result"
    }
   ],
   "source": [
    "# Сколько рейсов имеют загруженность выше средней?\n",
    "len(SVO[SVO.seats_number > SVO.seats_number.mean()])   # Меньше половины"
   ]
  },
  {
   "cell_type": "code",
   "execution_count": 27,
   "metadata": {
    "scrolled": false
   },
   "outputs": [
    {
     "data": {
      "text/plain": [
       "<matplotlib.axes._subplots.AxesSubplot at 0x1baf63d1460>"
      ]
     },
     "execution_count": 27,
     "metadata": {},
     "output_type": "execute_result"
    },
    {
     "data": {
      "image/png": "[encoded data removed]",
      "text/plain": [
       "<Figure size 432x288 with 1 Axes>"
      ]
     },
     "metadata": {
      "needs_background": "light"
     },
     "output_type": "display_data"
    }
   ],
   "source": [
    "# Посмотрим загруженность рейсов по дням недели\n",
    "SVO.plot(x='weekday', y='seats_number', kind = 'scatter')"
   ]
  },
  {
   "cell_type": "code",
   "execution_count": 28,
   "metadata": {
    "scrolled": true
   },
   "outputs": [
    {
     "data": {
      "image/png": "[encoded data removed]",
      "text/plain": [
       "<Figure size 720x288 with 1 Axes>"
      ]
     },
     "metadata": {
      "needs_background": "light"
     },
     "output_type": "display_data"
    },
    {
     "name": "stdout",
     "output_type": "stream",
     "text": [
      "\n"
     ]
    }
   ],
   "source": [
    "get_boxplot('weekday', 'seats_number', SVO)"
   ]
  },
  {
   "cell_type": "markdown",
   "metadata": {},
   "source": [
    "Во вторник, пятницу и субботу загруженность больше, чем в другие дни недели."
   ]
  },
  {
   "cell_type": "code",
   "execution_count": 29,
   "metadata": {},
   "outputs": [
    {
     "data": {
      "text/html": [
       "<div>\n",
       "<style scoped>\n",
       "    .dataframe tbody tr th:only-of-type {\n",
       "        vertical-align: middle;\n",
       "    }\n",
       "\n",
       "    .dataframe tbody tr th {\n",
       "        vertical-align: top;\n",
       "    }\n",
       "\n",
       "    .dataframe thead th {\n",
       "        text-align: right;\n",
       "    }\n",
       "</style>\n",
       "<table border=\"1\" class=\"dataframe\">\n",
       "  <thead>\n",
       "    <tr style=\"text-align: right;\">\n",
       "      <th></th>\n",
       "      <th>flight_id</th>\n",
       "      <th>seats_number</th>\n",
       "      <th>total_amount</th>\n",
       "      <th>duration</th>\n",
       "      <th>profit</th>\n",
       "    </tr>\n",
       "    <tr>\n",
       "      <th>weekday</th>\n",
       "      <th></th>\n",
       "      <th></th>\n",
       "      <th></th>\n",
       "      <th></th>\n",
       "      <th></th>\n",
       "    </tr>\n",
       "  </thead>\n",
       "  <tbody>\n",
       "    <tr>\n",
       "      <th>Friday</th>\n",
       "      <td>136349.12</td>\n",
       "      <td>116.38</td>\n",
       "      <td>1694625.00</td>\n",
       "      <td>100.0</td>\n",
       "      <td>1477975.00</td>\n",
       "    </tr>\n",
       "    <tr>\n",
       "      <th>Monday</th>\n",
       "      <td>136316.00</td>\n",
       "      <td>112.44</td>\n",
       "      <td>1625066.67</td>\n",
       "      <td>100.0</td>\n",
       "      <td>1408416.67</td>\n",
       "    </tr>\n",
       "    <tr>\n",
       "      <th>Saturday</th>\n",
       "      <td>136286.38</td>\n",
       "      <td>114.38</td>\n",
       "      <td>1667325.00</td>\n",
       "      <td>100.0</td>\n",
       "      <td>1450675.00</td>\n",
       "    </tr>\n",
       "    <tr>\n",
       "      <th>Sunday</th>\n",
       "      <td>136278.11</td>\n",
       "      <td>105.11</td>\n",
       "      <td>1540355.56</td>\n",
       "      <td>100.0</td>\n",
       "      <td>1323705.56</td>\n",
       "    </tr>\n",
       "    <tr>\n",
       "      <th>Thursday</th>\n",
       "      <td>136305.62</td>\n",
       "      <td>114.12</td>\n",
       "      <td>1651475.00</td>\n",
       "      <td>100.0</td>\n",
       "      <td>1434825.00</td>\n",
       "    </tr>\n",
       "    <tr>\n",
       "      <th>Tuesday</th>\n",
       "      <td>136307.33</td>\n",
       "      <td>118.22</td>\n",
       "      <td>1705866.67</td>\n",
       "      <td>100.0</td>\n",
       "      <td>1489216.67</td>\n",
       "    </tr>\n",
       "    <tr>\n",
       "      <th>Wednesday</th>\n",
       "      <td>136247.38</td>\n",
       "      <td>111.62</td>\n",
       "      <td>1620375.00</td>\n",
       "      <td>100.0</td>\n",
       "      <td>1403725.00</td>\n",
       "    </tr>\n",
       "  </tbody>\n",
       "</table>\n",
       "</div>"
      ],
      "text/plain": [
       "           flight_id  seats_number  total_amount  duration      profit\n",
       "weekday                                                               \n",
       "Friday     136349.12        116.38    1694625.00     100.0  1477975.00\n",
       "Monday     136316.00        112.44    1625066.67     100.0  1408416.67\n",
       "Saturday   136286.38        114.38    1667325.00     100.0  1450675.00\n",
       "Sunday     136278.11        105.11    1540355.56     100.0  1323705.56\n",
       "Thursday   136305.62        114.12    1651475.00     100.0  1434825.00\n",
       "Tuesday    136307.33        118.22    1705866.67     100.0  1489216.67\n",
       "Wednesday  136247.38        111.62    1620375.00     100.0  1403725.00"
      ]
     },
     "execution_count": 29,
     "metadata": {},
     "output_type": "execute_result"
    }
   ],
   "source": [
    "# Сгруппируем данные по дням недели\n",
    "grouped_SVO = round(SVO.groupby(['weekday']).mean(), 2)\n",
    "grouped_SVO"
   ]
  },
  {
   "cell_type": "code",
   "execution_count": 30,
   "metadata": {},
   "outputs": [
    {
     "data": {
      "image/png": "[encoded data removed]",
      "text/plain": [
       "<Figure size 720x288 with 1 Axes>"
      ]
     },
     "metadata": {
      "needs_background": "light"
     },
     "output_type": "display_data"
    },
    {
     "name": "stdout",
     "output_type": "stream",
     "text": [
      "\n"
     ]
    }
   ],
   "source": [
    "# Посмотрим распределение прибыли по дням недели.\n",
    "get_boxplot('weekday', 'profit', SVO)"
   ]
  },
  {
   "cell_type": "raw",
   "metadata": {},
   "source": [
    "Убыточных рейсов нет. Очень нестабильная прибыль по понедельникам, средам и четвергам. По воскресеньям прибыль ниже, чем в другие дни."
   ]
  },
  {
   "cell_type": "code",
   "execution_count": 31,
   "metadata": {
    "scrolled": false
   },
   "outputs": [
    {
     "data": {
      "text/html": [
       "<div>\n",
       "<style scoped>\n",
       "    .dataframe tbody tr th:only-of-type {\n",
       "        vertical-align: middle;\n",
       "    }\n",
       "\n",
       "    .dataframe tbody tr th {\n",
       "        vertical-align: top;\n",
       "    }\n",
       "\n",
       "    .dataframe thead th {\n",
       "        text-align: right;\n",
       "    }\n",
       "</style>\n",
       "<table border=\"1\" class=\"dataframe\">\n",
       "  <thead>\n",
       "    <tr style=\"text-align: right;\">\n",
       "      <th></th>\n",
       "      <th>flight_id</th>\n",
       "      <th>seats_number</th>\n",
       "      <th>total_amount</th>\n",
       "      <th>flight_no</th>\n",
       "      <th>departure</th>\n",
       "      <th>weekday</th>\n",
       "      <th>duration</th>\n",
       "      <th>departure_airport</th>\n",
       "      <th>arrival_airport</th>\n",
       "      <th>aircraft_code</th>\n",
       "      <th>profit</th>\n",
       "    </tr>\n",
       "  </thead>\n",
       "  <tbody>\n",
       "    <tr>\n",
       "      <th>54</th>\n",
       "      <td>136464</td>\n",
       "      <td>100</td>\n",
       "      <td>1398000.0</td>\n",
       "      <td>PG0252</td>\n",
       "      <td>2017-01-09 13:05:00</td>\n",
       "      <td>Monday</td>\n",
       "      <td>100.0</td>\n",
       "      <td>AAQ</td>\n",
       "      <td>SVO</td>\n",
       "      <td>733</td>\n",
       "      <td>1181350.0</td>\n",
       "    </tr>\n",
       "    <tr>\n",
       "      <th>21</th>\n",
       "      <td>136250</td>\n",
       "      <td>99</td>\n",
       "      <td>1407800.0</td>\n",
       "      <td>PG0252</td>\n",
       "      <td>2017-02-08 13:05:00</td>\n",
       "      <td>Wednesday</td>\n",
       "      <td>100.0</td>\n",
       "      <td>AAQ</td>\n",
       "      <td>SVO</td>\n",
       "      <td>733</td>\n",
       "      <td>1191150.0</td>\n",
       "    </tr>\n",
       "    <tr>\n",
       "      <th>2</th>\n",
       "      <td>136122</td>\n",
       "      <td>97</td>\n",
       "      <td>1431000.0</td>\n",
       "      <td>PG0252</td>\n",
       "      <td>2017-01-08 13:05:00</td>\n",
       "      <td>Sunday</td>\n",
       "      <td>100.0</td>\n",
       "      <td>AAQ</td>\n",
       "      <td>SVO</td>\n",
       "      <td>733</td>\n",
       "      <td>1214350.0</td>\n",
       "    </tr>\n",
       "    <tr>\n",
       "      <th>12</th>\n",
       "      <td>136178</td>\n",
       "      <td>99</td>\n",
       "      <td>1434600.0</td>\n",
       "      <td>PG0252</td>\n",
       "      <td>2017-01-29 13:05:00</td>\n",
       "      <td>Sunday</td>\n",
       "      <td>100.0</td>\n",
       "      <td>AAQ</td>\n",
       "      <td>SVO</td>\n",
       "      <td>733</td>\n",
       "      <td>1217950.0</td>\n",
       "    </tr>\n",
       "    <tr>\n",
       "      <th>38</th>\n",
       "      <td>136360</td>\n",
       "      <td>97</td>\n",
       "      <td>1455400.0</td>\n",
       "      <td>PG0252</td>\n",
       "      <td>2017-02-05 13:05:00</td>\n",
       "      <td>Sunday</td>\n",
       "      <td>100.0</td>\n",
       "      <td>AAQ</td>\n",
       "      <td>SVO</td>\n",
       "      <td>733</td>\n",
       "      <td>1238750.0</td>\n",
       "    </tr>\n",
       "    <tr>\n",
       "      <th>16</th>\n",
       "      <td>136204</td>\n",
       "      <td>107</td>\n",
       "      <td>1457800.0</td>\n",
       "      <td>PG0252</td>\n",
       "      <td>2017-02-23 13:05:00</td>\n",
       "      <td>Thursday</td>\n",
       "      <td>100.0</td>\n",
       "      <td>AAQ</td>\n",
       "      <td>SVO</td>\n",
       "      <td>733</td>\n",
       "      <td>1241150.0</td>\n",
       "    </tr>\n",
       "  </tbody>\n",
       "</table>\n",
       "</div>"
      ],
      "text/plain": [
       "    flight_id  seats_number  total_amount flight_no            departure  \\\n",
       "54     136464           100     1398000.0    PG0252  2017-01-09 13:05:00   \n",
       "21     136250            99     1407800.0    PG0252  2017-02-08 13:05:00   \n",
       "2      136122            97     1431000.0    PG0252  2017-01-08 13:05:00   \n",
       "12     136178            99     1434600.0    PG0252  2017-01-29 13:05:00   \n",
       "38     136360            97     1455400.0    PG0252  2017-02-05 13:05:00   \n",
       "16     136204           107     1457800.0    PG0252  2017-02-23 13:05:00   \n",
       "\n",
       "      weekday  duration departure_airport arrival_airport aircraft_code  \\\n",
       "54  Monday        100.0               AAQ             SVO           733   \n",
       "21  Wednesday     100.0               AAQ             SVO           733   \n",
       "2   Sunday        100.0               AAQ             SVO           733   \n",
       "12  Sunday        100.0               AAQ             SVO           733   \n",
       "38  Sunday        100.0               AAQ             SVO           733   \n",
       "16  Thursday      100.0               AAQ             SVO           733   \n",
       "\n",
       "       profit  \n",
       "54  1181350.0  \n",
       "21  1191150.0  \n",
       "2   1214350.0  \n",
       "12  1217950.0  \n",
       "38  1238750.0  \n",
       "16  1241150.0  "
      ]
     },
     "execution_count": 31,
     "metadata": {},
     "output_type": "execute_result"
    }
   ],
   "source": [
    "# Посмотрим на 10% рейсов с самой низкой прибылью.\n",
    "SVO.sort_values(by=['profit']).head(6)"
   ]
  },
  {
   "cell_type": "markdown",
   "metadata": {},
   "source": [
    "Предварительное предложение: По воскресеньям заменить модель самолета на Sukhoi Superjet-100. У него меньше расход топлива, а загруженность рейсов по воскресеньям меньше, чем в другие дни.\n",
    "\n",
    "После дополнительного анализа других затрат, можно отменить рейсы в один из дней недели, например, по понедельникам, средам или четвергам, так как в эти дни  низкая средняя загрузка и выручка. Если не заменять модель самолета по воскресеньям, то можно отменить рейсы по воскресеньям.\n"
   ]
  },
  {
   "cell_type": "markdown",
   "metadata": {},
   "source": [
    "Если сравнить даты, когда была получена наименьшая выручка по обоим направлениям, можно заметить, что в обе выборки попало 23 февраля. Стоит обратить на это внимание.\n"
   ]
  },
  {
   "cell_type": "markdown",
   "metadata": {},
   "source": [
    "Для принятия окончательного решения необходимо узнать точную стоимость топлива, расходы на предполетную подготовку бортов, зарплату экипажа и т.п., и уже на основании этих данных принимать решение.\n"
   ]
  },
  {
   "cell_type": "code",
   "execution_count": null,
   "metadata": {},
   "outputs": [],
   "source": []
  },
  {
   "cell_type": "code",
   "execution_count": null,
   "metadata": {},
   "outputs": [],
   "source": []
  },
  {
   "cell_type": "code",
   "execution_count": null,
   "metadata": {},
   "outputs": [],
   "source": []
  },
  {
   "cell_type": "code",
   "execution_count": null,
   "metadata": {},
   "outputs": [],
   "source": []
  }
 ],
 "metadata": {
  "kernelspec": {
   "display_name": "Python 3",
   "language": "python",
   "name": "python3"
  },
  "language_info": {
   "codemirror_mode": {
    "name": "ipython",
    "version": 3
   },
   "file_extension": ".py",
   "mimetype": "text/x-python",
   "name": "python",
   "nbconvert_exporter": "python",
   "pygments_lexer": "ipython3",
   "version": "3.8.3"
  }
 },
 "nbformat": 4,
 "nbformat_minor": 4
}
